{
 "cells": [
  {
   "cell_type": "markdown",
   "metadata": {},
   "source": [
    "\n",
    "COVID-19 Coronavirus worldwide cases:EDA and Forecasting \n"
   ]
  },
  {
   "cell_type": "markdown",
   "metadata": {},
   "source": [
    "COVID-19 Coronavirus worldwide cases: EDA and Forecasting  Background COVID-19 (previously known as 2019 Novel Coronavirus, or 2019-nCoV), is a new respiratory virus first identified in Wuhan, Hubei Province, China. \n",
    "\n",
    "Public health officials and partners are working hard to identify the source of the COVID-19. Coronaviruses are a large family of viruses, some causing illness in people and others that circulate among animals, including camels, cats and bats. Analysis of the genetic tree of this virus is ongoing to know the specific source of the virus.\n",
    "\n",
    "This virus probably originally emerged from an animal source but now seems to be spreading from person-to-person. It’s important to note that person-to-person spread can happen on a continuum. Some viruses are highly contagious (like measles), while other viruses are less so. At this time, it’s unclear how easily or sustainably this virus is spreading between people. Learn what is known about the spread of newly emerged coronaviruses."
   ]
  },
  {
   "cell_type": "markdown",
   "metadata": {},
   "source": [
    "DATA IMPORT,PRE_PROCESSING AND EDA"
   ]
  },
  {
   "cell_type": "code",
   "execution_count": 17,
   "metadata": {},
   "outputs": [],
   "source": [
    "import pandas as pd\n",
    "import numpy as np\n",
    "import seaborn as sns\n",
    "from fbprophet import Prophet\n",
    "from matplotlib import pyplot as plt\n",
    "import plotly.graph_objects as go\n",
    "import plotly.express as px\n",
    "from collections import namedtuple"
   ]
  },
  {
   "cell_type": "code",
   "execution_count": 18,
   "metadata": {},
   "outputs": [],
   "source": [
    "df = pd.read_csv('C:/Users/tejas/Desktop/Covid-19/covid_19_data.csv',parse_dates=['Last Update'])\n",
    "df.rename(columns={'ObservationDate':'Date', 'Country/Region':'Country'}, inplace=True)"
   ]
  },
  {
   "cell_type": "code",
   "execution_count": 19,
   "metadata": {},
   "outputs": [
    {
     "data": {
      "text/html": [
       "<div>\n",
       "<style scoped>\n",
       "    .dataframe tbody tr th:only-of-type {\n",
       "        vertical-align: middle;\n",
       "    }\n",
       "\n",
       "    .dataframe tbody tr th {\n",
       "        vertical-align: top;\n",
       "    }\n",
       "\n",
       "    .dataframe thead th {\n",
       "        text-align: right;\n",
       "    }\n",
       "</style>\n",
       "<table border=\"1\" class=\"dataframe\">\n",
       "  <thead>\n",
       "    <tr style=\"text-align: right;\">\n",
       "      <th></th>\n",
       "      <th>SNo</th>\n",
       "      <th>Date</th>\n",
       "      <th>Province/State</th>\n",
       "      <th>Country</th>\n",
       "      <th>Last Update</th>\n",
       "      <th>Confirmed</th>\n",
       "      <th>Deaths</th>\n",
       "      <th>Recovered</th>\n",
       "    </tr>\n",
       "  </thead>\n",
       "  <tbody>\n",
       "    <tr>\n",
       "      <th>0</th>\n",
       "      <td>1</td>\n",
       "      <td>1/22/2020</td>\n",
       "      <td>Anhui</td>\n",
       "      <td>Mainland China</td>\n",
       "      <td>2020-01-22 17:00:00</td>\n",
       "      <td>1</td>\n",
       "      <td>0</td>\n",
       "      <td>0</td>\n",
       "    </tr>\n",
       "    <tr>\n",
       "      <th>1</th>\n",
       "      <td>2</td>\n",
       "      <td>1/22/2020</td>\n",
       "      <td>Beijing</td>\n",
       "      <td>Mainland China</td>\n",
       "      <td>2020-01-22 17:00:00</td>\n",
       "      <td>14</td>\n",
       "      <td>0</td>\n",
       "      <td>0</td>\n",
       "    </tr>\n",
       "    <tr>\n",
       "      <th>2</th>\n",
       "      <td>3</td>\n",
       "      <td>1/22/2020</td>\n",
       "      <td>Chongqing</td>\n",
       "      <td>Mainland China</td>\n",
       "      <td>2020-01-22 17:00:00</td>\n",
       "      <td>6</td>\n",
       "      <td>0</td>\n",
       "      <td>0</td>\n",
       "    </tr>\n",
       "    <tr>\n",
       "      <th>3</th>\n",
       "      <td>4</td>\n",
       "      <td>1/22/2020</td>\n",
       "      <td>Fujian</td>\n",
       "      <td>Mainland China</td>\n",
       "      <td>2020-01-22 17:00:00</td>\n",
       "      <td>1</td>\n",
       "      <td>0</td>\n",
       "      <td>0</td>\n",
       "    </tr>\n",
       "    <tr>\n",
       "      <th>4</th>\n",
       "      <td>5</td>\n",
       "      <td>1/22/2020</td>\n",
       "      <td>Gansu</td>\n",
       "      <td>Mainland China</td>\n",
       "      <td>2020-01-22 17:00:00</td>\n",
       "      <td>0</td>\n",
       "      <td>0</td>\n",
       "      <td>0</td>\n",
       "    </tr>\n",
       "  </tbody>\n",
       "</table>\n",
       "</div>"
      ],
      "text/plain": [
       "   SNo       Date Province/State         Country         Last Update  \\\n",
       "0    1  1/22/2020          Anhui  Mainland China 2020-01-22 17:00:00   \n",
       "1    2  1/22/2020        Beijing  Mainland China 2020-01-22 17:00:00   \n",
       "2    3  1/22/2020      Chongqing  Mainland China 2020-01-22 17:00:00   \n",
       "3    4  1/22/2020         Fujian  Mainland China 2020-01-22 17:00:00   \n",
       "4    5  1/22/2020          Gansu  Mainland China 2020-01-22 17:00:00   \n",
       "\n",
       "   Confirmed  Deaths  Recovered  \n",
       "0          1       0          0  \n",
       "1         14       0          0  \n",
       "2          6       0          0  \n",
       "3          1       0          0  \n",
       "4          0       0          0  "
      ]
     },
     "execution_count": 19,
     "metadata": {},
     "output_type": "execute_result"
    }
   ],
   "source": [
    "df.head()"
   ]
  },
  {
   "cell_type": "code",
   "execution_count": 20,
   "metadata": {},
   "outputs": [],
   "source": [
    "df_confirmed = pd.read_csv(\"C:\\\\Users\\\\tejas\\\\Desktop\\\\Covid-19\\\\time_series_covid_19_confirmed.csv\")\n",
    "df_recovered = pd.read_csv(\"C:/Users/tejas/Desktop/Covid-19/time_series_covid_19_recovered.csv\")\n",
    "df_deaths = pd.read_csv(\"C:/Users/tejas/Desktop/Covid-19/time_series_covid_19_deaths.csv\")\n",
    "\n",
    "df_confirmed.rename(columns={'Country/Region':'Country'}, inplace=True)\n",
    "df_recovered.rename(columns={'Country/Region':'Country'}, inplace=True)\n",
    "df_deaths.rename(columns={'Country/Region':'Country'}, inplace=True)"
   ]
  },
  {
   "cell_type": "code",
   "execution_count": 21,
   "metadata": {},
   "outputs": [
    {
     "data": {
      "text/html": [
       "<div>\n",
       "<style scoped>\n",
       "    .dataframe tbody tr th:only-of-type {\n",
       "        vertical-align: middle;\n",
       "    }\n",
       "\n",
       "    .dataframe tbody tr th {\n",
       "        vertical-align: top;\n",
       "    }\n",
       "\n",
       "    .dataframe thead th {\n",
       "        text-align: right;\n",
       "    }\n",
       "</style>\n",
       "<table border=\"1\" class=\"dataframe\">\n",
       "  <thead>\n",
       "    <tr style=\"text-align: right;\">\n",
       "      <th></th>\n",
       "      <th>Province/State</th>\n",
       "      <th>Country</th>\n",
       "      <th>Lat</th>\n",
       "      <th>Long</th>\n",
       "      <th>1/22/20</th>\n",
       "      <th>1/23/20</th>\n",
       "      <th>1/24/20</th>\n",
       "      <th>1/25/20</th>\n",
       "      <th>1/26/20</th>\n",
       "      <th>1/27/20</th>\n",
       "      <th>...</th>\n",
       "      <th>5/15/20</th>\n",
       "      <th>5/16/20</th>\n",
       "      <th>5/17/20</th>\n",
       "      <th>5/18/20</th>\n",
       "      <th>5/19/20</th>\n",
       "      <th>5/20/20</th>\n",
       "      <th>5/21/20</th>\n",
       "      <th>5/22/20</th>\n",
       "      <th>5/23/20</th>\n",
       "      <th>5/24/20</th>\n",
       "    </tr>\n",
       "  </thead>\n",
       "  <tbody>\n",
       "    <tr>\n",
       "      <th>0</th>\n",
       "      <td>NaN</td>\n",
       "      <td>Afghanistan</td>\n",
       "      <td>33.0000</td>\n",
       "      <td>65.0000</td>\n",
       "      <td>0</td>\n",
       "      <td>0</td>\n",
       "      <td>0</td>\n",
       "      <td>0</td>\n",
       "      <td>0</td>\n",
       "      <td>0</td>\n",
       "      <td>...</td>\n",
       "      <td>6053</td>\n",
       "      <td>6402</td>\n",
       "      <td>6664</td>\n",
       "      <td>7072</td>\n",
       "      <td>7653</td>\n",
       "      <td>8145</td>\n",
       "      <td>8676</td>\n",
       "      <td>9216</td>\n",
       "      <td>9998</td>\n",
       "      <td>10582</td>\n",
       "    </tr>\n",
       "    <tr>\n",
       "      <th>1</th>\n",
       "      <td>NaN</td>\n",
       "      <td>Albania</td>\n",
       "      <td>41.1533</td>\n",
       "      <td>20.1683</td>\n",
       "      <td>0</td>\n",
       "      <td>0</td>\n",
       "      <td>0</td>\n",
       "      <td>0</td>\n",
       "      <td>0</td>\n",
       "      <td>0</td>\n",
       "      <td>...</td>\n",
       "      <td>916</td>\n",
       "      <td>933</td>\n",
       "      <td>946</td>\n",
       "      <td>948</td>\n",
       "      <td>949</td>\n",
       "      <td>964</td>\n",
       "      <td>969</td>\n",
       "      <td>981</td>\n",
       "      <td>989</td>\n",
       "      <td>998</td>\n",
       "    </tr>\n",
       "    <tr>\n",
       "      <th>2</th>\n",
       "      <td>NaN</td>\n",
       "      <td>Algeria</td>\n",
       "      <td>28.0339</td>\n",
       "      <td>1.6596</td>\n",
       "      <td>0</td>\n",
       "      <td>0</td>\n",
       "      <td>0</td>\n",
       "      <td>0</td>\n",
       "      <td>0</td>\n",
       "      <td>0</td>\n",
       "      <td>...</td>\n",
       "      <td>6629</td>\n",
       "      <td>6821</td>\n",
       "      <td>7019</td>\n",
       "      <td>7201</td>\n",
       "      <td>7377</td>\n",
       "      <td>7542</td>\n",
       "      <td>7728</td>\n",
       "      <td>7918</td>\n",
       "      <td>8113</td>\n",
       "      <td>8306</td>\n",
       "    </tr>\n",
       "    <tr>\n",
       "      <th>3</th>\n",
       "      <td>NaN</td>\n",
       "      <td>Andorra</td>\n",
       "      <td>42.5063</td>\n",
       "      <td>1.5218</td>\n",
       "      <td>0</td>\n",
       "      <td>0</td>\n",
       "      <td>0</td>\n",
       "      <td>0</td>\n",
       "      <td>0</td>\n",
       "      <td>0</td>\n",
       "      <td>...</td>\n",
       "      <td>761</td>\n",
       "      <td>761</td>\n",
       "      <td>761</td>\n",
       "      <td>761</td>\n",
       "      <td>761</td>\n",
       "      <td>762</td>\n",
       "      <td>762</td>\n",
       "      <td>762</td>\n",
       "      <td>762</td>\n",
       "      <td>762</td>\n",
       "    </tr>\n",
       "    <tr>\n",
       "      <th>4</th>\n",
       "      <td>NaN</td>\n",
       "      <td>Angola</td>\n",
       "      <td>-11.2027</td>\n",
       "      <td>17.8739</td>\n",
       "      <td>0</td>\n",
       "      <td>0</td>\n",
       "      <td>0</td>\n",
       "      <td>0</td>\n",
       "      <td>0</td>\n",
       "      <td>0</td>\n",
       "      <td>...</td>\n",
       "      <td>48</td>\n",
       "      <td>48</td>\n",
       "      <td>48</td>\n",
       "      <td>50</td>\n",
       "      <td>52</td>\n",
       "      <td>52</td>\n",
       "      <td>58</td>\n",
       "      <td>60</td>\n",
       "      <td>61</td>\n",
       "      <td>69</td>\n",
       "    </tr>\n",
       "  </tbody>\n",
       "</table>\n",
       "<p>5 rows × 128 columns</p>\n",
       "</div>"
      ],
      "text/plain": [
       "  Province/State      Country      Lat     Long  1/22/20  1/23/20  1/24/20  \\\n",
       "0            NaN  Afghanistan  33.0000  65.0000        0        0        0   \n",
       "1            NaN      Albania  41.1533  20.1683        0        0        0   \n",
       "2            NaN      Algeria  28.0339   1.6596        0        0        0   \n",
       "3            NaN      Andorra  42.5063   1.5218        0        0        0   \n",
       "4            NaN       Angola -11.2027  17.8739        0        0        0   \n",
       "\n",
       "   1/25/20  1/26/20  1/27/20  ...  5/15/20  5/16/20  5/17/20  5/18/20  \\\n",
       "0        0        0        0  ...     6053     6402     6664     7072   \n",
       "1        0        0        0  ...      916      933      946      948   \n",
       "2        0        0        0  ...     6629     6821     7019     7201   \n",
       "3        0        0        0  ...      761      761      761      761   \n",
       "4        0        0        0  ...       48       48       48       50   \n",
       "\n",
       "   5/19/20  5/20/20  5/21/20  5/22/20  5/23/20  5/24/20  \n",
       "0     7653     8145     8676     9216     9998    10582  \n",
       "1      949      964      969      981      989      998  \n",
       "2     7377     7542     7728     7918     8113     8306  \n",
       "3      761      762      762      762      762      762  \n",
       "4       52       52       58       60       61       69  \n",
       "\n",
       "[5 rows x 128 columns]"
      ]
     },
     "execution_count": 21,
     "metadata": {},
     "output_type": "execute_result"
    }
   ],
   "source": [
    "df_confirmed.head()"
   ]
  },
  {
   "cell_type": "markdown",
   "metadata": {},
   "source": [
    "Earliest cases"
   ]
  },
  {
   "cell_type": "code",
   "execution_count": 22,
   "metadata": {},
   "outputs": [
    {
     "data": {
      "text/html": [
       "<div>\n",
       "<style scoped>\n",
       "    .dataframe tbody tr th:only-of-type {\n",
       "        vertical-align: middle;\n",
       "    }\n",
       "\n",
       "    .dataframe tbody tr th {\n",
       "        vertical-align: top;\n",
       "    }\n",
       "\n",
       "    .dataframe thead th {\n",
       "        text-align: right;\n",
       "    }\n",
       "</style>\n",
       "<table border=\"1\" class=\"dataframe\">\n",
       "  <thead>\n",
       "    <tr style=\"text-align: right;\">\n",
       "      <th></th>\n",
       "      <th>SNo</th>\n",
       "      <th>Date</th>\n",
       "      <th>Province/State</th>\n",
       "      <th>Country</th>\n",
       "      <th>Last Update</th>\n",
       "      <th>Confirmed</th>\n",
       "      <th>Deaths</th>\n",
       "      <th>Recovered</th>\n",
       "    </tr>\n",
       "  </thead>\n",
       "  <tbody>\n",
       "    <tr>\n",
       "      <th>0</th>\n",
       "      <td>1</td>\n",
       "      <td>1/22/2020</td>\n",
       "      <td>Anhui</td>\n",
       "      <td>Mainland China</td>\n",
       "      <td>2020-01-22 17:00:00</td>\n",
       "      <td>1</td>\n",
       "      <td>0</td>\n",
       "      <td>0</td>\n",
       "    </tr>\n",
       "    <tr>\n",
       "      <th>1</th>\n",
       "      <td>2</td>\n",
       "      <td>1/22/2020</td>\n",
       "      <td>Beijing</td>\n",
       "      <td>Mainland China</td>\n",
       "      <td>2020-01-22 17:00:00</td>\n",
       "      <td>14</td>\n",
       "      <td>0</td>\n",
       "      <td>0</td>\n",
       "    </tr>\n",
       "    <tr>\n",
       "      <th>2</th>\n",
       "      <td>3</td>\n",
       "      <td>1/22/2020</td>\n",
       "      <td>Chongqing</td>\n",
       "      <td>Mainland China</td>\n",
       "      <td>2020-01-22 17:00:00</td>\n",
       "      <td>6</td>\n",
       "      <td>0</td>\n",
       "      <td>0</td>\n",
       "    </tr>\n",
       "    <tr>\n",
       "      <th>3</th>\n",
       "      <td>4</td>\n",
       "      <td>1/22/2020</td>\n",
       "      <td>Fujian</td>\n",
       "      <td>Mainland China</td>\n",
       "      <td>2020-01-22 17:00:00</td>\n",
       "      <td>1</td>\n",
       "      <td>0</td>\n",
       "      <td>0</td>\n",
       "    </tr>\n",
       "    <tr>\n",
       "      <th>4</th>\n",
       "      <td>5</td>\n",
       "      <td>1/22/2020</td>\n",
       "      <td>Gansu</td>\n",
       "      <td>Mainland China</td>\n",
       "      <td>2020-01-22 17:00:00</td>\n",
       "      <td>0</td>\n",
       "      <td>0</td>\n",
       "      <td>0</td>\n",
       "    </tr>\n",
       "  </tbody>\n",
       "</table>\n",
       "</div>"
      ],
      "text/plain": [
       "   SNo       Date Province/State         Country         Last Update  \\\n",
       "0    1  1/22/2020          Anhui  Mainland China 2020-01-22 17:00:00   \n",
       "1    2  1/22/2020        Beijing  Mainland China 2020-01-22 17:00:00   \n",
       "2    3  1/22/2020      Chongqing  Mainland China 2020-01-22 17:00:00   \n",
       "3    4  1/22/2020         Fujian  Mainland China 2020-01-22 17:00:00   \n",
       "4    5  1/22/2020          Gansu  Mainland China 2020-01-22 17:00:00   \n",
       "\n",
       "   Confirmed  Deaths  Recovered  \n",
       "0          1       0          0  \n",
       "1         14       0          0  \n",
       "2          6       0          0  \n",
       "3          1       0          0  \n",
       "4          0       0          0  "
      ]
     },
     "execution_count": 22,
     "metadata": {},
     "output_type": "execute_result"
    }
   ],
   "source": [
    "df.head()"
   ]
  },
  {
   "cell_type": "markdown",
   "metadata": {},
   "source": [
    "Latest cases"
   ]
  },
  {
   "cell_type": "code",
   "execution_count": 23,
   "metadata": {
    "scrolled": true
   },
   "outputs": [
    {
     "data": {
      "text/html": [
       "<div>\n",
       "<style scoped>\n",
       "    .dataframe tbody tr th:only-of-type {\n",
       "        vertical-align: middle;\n",
       "    }\n",
       "\n",
       "    .dataframe tbody tr th {\n",
       "        vertical-align: top;\n",
       "    }\n",
       "\n",
       "    .dataframe thead th {\n",
       "        text-align: right;\n",
       "    }\n",
       "</style>\n",
       "<table border=\"1\" class=\"dataframe\">\n",
       "  <thead>\n",
       "    <tr style=\"text-align: right;\">\n",
       "      <th></th>\n",
       "      <th>SNo</th>\n",
       "      <th>Date</th>\n",
       "      <th>Province/State</th>\n",
       "      <th>Country</th>\n",
       "      <th>Last Update</th>\n",
       "      <th>Confirmed</th>\n",
       "      <th>Deaths</th>\n",
       "      <th>Recovered</th>\n",
       "    </tr>\n",
       "  </thead>\n",
       "  <tbody>\n",
       "    <tr>\n",
       "      <th>28969</th>\n",
       "      <td>28970</td>\n",
       "      <td>5/24/2020</td>\n",
       "      <td>Yucatan</td>\n",
       "      <td>Mexico</td>\n",
       "      <td>2020-05-25 02:32:00</td>\n",
       "      <td>1487</td>\n",
       "      <td>116</td>\n",
       "      <td>963</td>\n",
       "    </tr>\n",
       "    <tr>\n",
       "      <th>28970</th>\n",
       "      <td>28971</td>\n",
       "      <td>5/24/2020</td>\n",
       "      <td>Yukon</td>\n",
       "      <td>Canada</td>\n",
       "      <td>2020-05-25 02:32:00</td>\n",
       "      <td>11</td>\n",
       "      <td>0</td>\n",
       "      <td>11</td>\n",
       "    </tr>\n",
       "    <tr>\n",
       "      <th>28971</th>\n",
       "      <td>28972</td>\n",
       "      <td>5/24/2020</td>\n",
       "      <td>Yunnan</td>\n",
       "      <td>Mainland China</td>\n",
       "      <td>2020-05-25 02:32:00</td>\n",
       "      <td>185</td>\n",
       "      <td>2</td>\n",
       "      <td>183</td>\n",
       "    </tr>\n",
       "    <tr>\n",
       "      <th>28972</th>\n",
       "      <td>28973</td>\n",
       "      <td>5/24/2020</td>\n",
       "      <td>Zacatecas</td>\n",
       "      <td>Mexico</td>\n",
       "      <td>2020-05-25 02:32:00</td>\n",
       "      <td>236</td>\n",
       "      <td>27</td>\n",
       "      <td>159</td>\n",
       "    </tr>\n",
       "    <tr>\n",
       "      <th>28973</th>\n",
       "      <td>28974</td>\n",
       "      <td>5/24/2020</td>\n",
       "      <td>Zhejiang</td>\n",
       "      <td>Mainland China</td>\n",
       "      <td>2020-05-25 02:32:00</td>\n",
       "      <td>1268</td>\n",
       "      <td>1</td>\n",
       "      <td>1267</td>\n",
       "    </tr>\n",
       "  </tbody>\n",
       "</table>\n",
       "</div>"
      ],
      "text/plain": [
       "         SNo       Date Province/State         Country         Last Update  \\\n",
       "28969  28970  5/24/2020        Yucatan          Mexico 2020-05-25 02:32:00   \n",
       "28970  28971  5/24/2020          Yukon          Canada 2020-05-25 02:32:00   \n",
       "28971  28972  5/24/2020         Yunnan  Mainland China 2020-05-25 02:32:00   \n",
       "28972  28973  5/24/2020      Zacatecas          Mexico 2020-05-25 02:32:00   \n",
       "28973  28974  5/24/2020       Zhejiang  Mainland China 2020-05-25 02:32:00   \n",
       "\n",
       "       Confirmed  Deaths  Recovered  \n",
       "28969       1487     116        963  \n",
       "28970         11       0         11  \n",
       "28971        185       2        183  \n",
       "28972        236      27        159  \n",
       "28973       1268       1       1267  "
      ]
     },
     "execution_count": 23,
     "metadata": {},
     "output_type": "execute_result"
    }
   ],
   "source": [
    "df.tail()"
   ]
  },
  {
   "cell_type": "markdown",
   "metadata": {},
   "source": [
    "BY COUNTRY DATE AND STATE(SORTED) to get feel of data"
   ]
  },
  {
   "cell_type": "code",
   "execution_count": 24,
   "metadata": {},
   "outputs": [],
   "source": [
    "df2 = df.groupby([\"Date\", \"Country\", \"Province/State\"])[['Date', 'Province/State', 'Country', 'Confirmed', 'Deaths', 'Recovered']].sum().reset_index()"
   ]
  },
  {
   "cell_type": "code",
   "execution_count": 25,
   "metadata": {},
   "outputs": [
    {
     "data": {
      "text/html": [
       "<div>\n",
       "<style scoped>\n",
       "    .dataframe tbody tr th:only-of-type {\n",
       "        vertical-align: middle;\n",
       "    }\n",
       "\n",
       "    .dataframe tbody tr th {\n",
       "        vertical-align: top;\n",
       "    }\n",
       "\n",
       "    .dataframe thead th {\n",
       "        text-align: right;\n",
       "    }\n",
       "</style>\n",
       "<table border=\"1\" class=\"dataframe\">\n",
       "  <thead>\n",
       "    <tr style=\"text-align: right;\">\n",
       "      <th></th>\n",
       "      <th>Date</th>\n",
       "      <th>Country</th>\n",
       "      <th>Province/State</th>\n",
       "      <th>Confirmed</th>\n",
       "      <th>Deaths</th>\n",
       "      <th>Recovered</th>\n",
       "    </tr>\n",
       "  </thead>\n",
       "  <tbody>\n",
       "    <tr>\n",
       "      <th>0</th>\n",
       "      <td>1/22/2020</td>\n",
       "      <td>Hong Kong</td>\n",
       "      <td>Hong Kong</td>\n",
       "      <td>0</td>\n",
       "      <td>0</td>\n",
       "      <td>0</td>\n",
       "    </tr>\n",
       "    <tr>\n",
       "      <th>1</th>\n",
       "      <td>1/22/2020</td>\n",
       "      <td>Macau</td>\n",
       "      <td>Macau</td>\n",
       "      <td>1</td>\n",
       "      <td>0</td>\n",
       "      <td>0</td>\n",
       "    </tr>\n",
       "    <tr>\n",
       "      <th>2</th>\n",
       "      <td>1/22/2020</td>\n",
       "      <td>Mainland China</td>\n",
       "      <td>Anhui</td>\n",
       "      <td>1</td>\n",
       "      <td>0</td>\n",
       "      <td>0</td>\n",
       "    </tr>\n",
       "    <tr>\n",
       "      <th>3</th>\n",
       "      <td>1/22/2020</td>\n",
       "      <td>Mainland China</td>\n",
       "      <td>Beijing</td>\n",
       "      <td>14</td>\n",
       "      <td>0</td>\n",
       "      <td>0</td>\n",
       "    </tr>\n",
       "    <tr>\n",
       "      <th>4</th>\n",
       "      <td>1/22/2020</td>\n",
       "      <td>Mainland China</td>\n",
       "      <td>Chongqing</td>\n",
       "      <td>6</td>\n",
       "      <td>0</td>\n",
       "      <td>0</td>\n",
       "    </tr>\n",
       "    <tr>\n",
       "      <th>...</th>\n",
       "      <td>...</td>\n",
       "      <td>...</td>\n",
       "      <td>...</td>\n",
       "      <td>...</td>\n",
       "      <td>...</td>\n",
       "      <td>...</td>\n",
       "    </tr>\n",
       "    <tr>\n",
       "      <th>14244</th>\n",
       "      <td>5/9/2020</td>\n",
       "      <td>US</td>\n",
       "      <td>Virginia</td>\n",
       "      <td>23196</td>\n",
       "      <td>827</td>\n",
       "      <td>0</td>\n",
       "    </tr>\n",
       "    <tr>\n",
       "      <th>14245</th>\n",
       "      <td>5/9/2020</td>\n",
       "      <td>US</td>\n",
       "      <td>Washington</td>\n",
       "      <td>16674</td>\n",
       "      <td>921</td>\n",
       "      <td>0</td>\n",
       "    </tr>\n",
       "    <tr>\n",
       "      <th>14246</th>\n",
       "      <td>5/9/2020</td>\n",
       "      <td>US</td>\n",
       "      <td>West Virginia</td>\n",
       "      <td>1323</td>\n",
       "      <td>52</td>\n",
       "      <td>0</td>\n",
       "    </tr>\n",
       "    <tr>\n",
       "      <th>14247</th>\n",
       "      <td>5/9/2020</td>\n",
       "      <td>US</td>\n",
       "      <td>Wisconsin</td>\n",
       "      <td>9939</td>\n",
       "      <td>398</td>\n",
       "      <td>0</td>\n",
       "    </tr>\n",
       "    <tr>\n",
       "      <th>14248</th>\n",
       "      <td>5/9/2020</td>\n",
       "      <td>US</td>\n",
       "      <td>Wyoming</td>\n",
       "      <td>653</td>\n",
       "      <td>7</td>\n",
       "      <td>0</td>\n",
       "    </tr>\n",
       "  </tbody>\n",
       "</table>\n",
       "<p>14249 rows × 6 columns</p>\n",
       "</div>"
      ],
      "text/plain": [
       "            Date         Country Province/State  Confirmed  Deaths  Recovered\n",
       "0      1/22/2020       Hong Kong      Hong Kong          0       0          0\n",
       "1      1/22/2020           Macau          Macau          1       0          0\n",
       "2      1/22/2020  Mainland China          Anhui          1       0          0\n",
       "3      1/22/2020  Mainland China        Beijing         14       0          0\n",
       "4      1/22/2020  Mainland China      Chongqing          6       0          0\n",
       "...          ...             ...            ...        ...     ...        ...\n",
       "14244   5/9/2020              US       Virginia      23196     827          0\n",
       "14245   5/9/2020              US     Washington      16674     921          0\n",
       "14246   5/9/2020              US  West Virginia       1323      52          0\n",
       "14247   5/9/2020              US      Wisconsin       9939     398          0\n",
       "14248   5/9/2020              US        Wyoming        653       7          0\n",
       "\n",
       "[14249 rows x 6 columns]"
      ]
     },
     "execution_count": 25,
     "metadata": {},
     "output_type": "execute_result"
    }
   ],
   "source": [
    "df2"
   ]
  },
  {
   "cell_type": "markdown",
   "metadata": {},
   "source": [
    "BY COUNTRY (SORTED)"
   ]
  },
  {
   "cell_type": "code",
   "execution_count": 26,
   "metadata": {},
   "outputs": [
    {
     "data": {
      "text/html": [
       "<div>\n",
       "<style scoped>\n",
       "    .dataframe tbody tr th:only-of-type {\n",
       "        vertical-align: middle;\n",
       "    }\n",
       "\n",
       "    .dataframe tbody tr th {\n",
       "        vertical-align: top;\n",
       "    }\n",
       "\n",
       "    .dataframe thead th {\n",
       "        text-align: right;\n",
       "    }\n",
       "</style>\n",
       "<table border=\"1\" class=\"dataframe\">\n",
       "  <thead>\n",
       "    <tr style=\"text-align: right;\">\n",
       "      <th></th>\n",
       "      <th>Country</th>\n",
       "      <th>Confirmed</th>\n",
       "      <th>Deaths</th>\n",
       "      <th>Recovered</th>\n",
       "    </tr>\n",
       "  </thead>\n",
       "  <tbody>\n",
       "    <tr>\n",
       "      <th>0</th>\n",
       "      <td>Azerbaijan</td>\n",
       "      <td>1</td>\n",
       "      <td>0</td>\n",
       "      <td>0</td>\n",
       "    </tr>\n",
       "    <tr>\n",
       "      <th>1</th>\n",
       "      <td>('St. Martin',)</td>\n",
       "      <td>2</td>\n",
       "      <td>0</td>\n",
       "      <td>0</td>\n",
       "    </tr>\n",
       "    <tr>\n",
       "      <th>2</th>\n",
       "      <td>Afghanistan</td>\n",
       "      <td>162232</td>\n",
       "      <td>4230</td>\n",
       "      <td>18620</td>\n",
       "    </tr>\n",
       "    <tr>\n",
       "      <th>3</th>\n",
       "      <td>Albania</td>\n",
       "      <td>39220</td>\n",
       "      <td>1564</td>\n",
       "      <td>24090</td>\n",
       "    </tr>\n",
       "    <tr>\n",
       "      <th>4</th>\n",
       "      <td>Algeria</td>\n",
       "      <td>222870</td>\n",
       "      <td>22006</td>\n",
       "      <td>97680</td>\n",
       "    </tr>\n",
       "    <tr>\n",
       "      <th>...</th>\n",
       "      <td>...</td>\n",
       "      <td>...</td>\n",
       "      <td>...</td>\n",
       "      <td>...</td>\n",
       "    </tr>\n",
       "    <tr>\n",
       "      <th>218</th>\n",
       "      <td>Western Sahara</td>\n",
       "      <td>289</td>\n",
       "      <td>0</td>\n",
       "      <td>174</td>\n",
       "    </tr>\n",
       "    <tr>\n",
       "      <th>219</th>\n",
       "      <td>Yemen</td>\n",
       "      <td>2214</td>\n",
       "      <td>367</td>\n",
       "      <td>72</td>\n",
       "    </tr>\n",
       "    <tr>\n",
       "      <th>220</th>\n",
       "      <td>Zambia</td>\n",
       "      <td>13445</td>\n",
       "      <td>201</td>\n",
       "      <td>4609</td>\n",
       "    </tr>\n",
       "    <tr>\n",
       "      <th>221</th>\n",
       "      <td>Zimbabwe</td>\n",
       "      <td>1648</td>\n",
       "      <td>191</td>\n",
       "      <td>323</td>\n",
       "    </tr>\n",
       "    <tr>\n",
       "      <th>222</th>\n",
       "      <td>occupied Palestinian territory</td>\n",
       "      <td>25</td>\n",
       "      <td>0</td>\n",
       "      <td>0</td>\n",
       "    </tr>\n",
       "  </tbody>\n",
       "</table>\n",
       "<p>223 rows × 4 columns</p>\n",
       "</div>"
      ],
      "text/plain": [
       "                            Country  Confirmed  Deaths  Recovered\n",
       "0                        Azerbaijan          1       0          0\n",
       "1                   ('St. Martin',)          2       0          0\n",
       "2                       Afghanistan     162232    4230      18620\n",
       "3                           Albania      39220    1564      24090\n",
       "4                           Algeria     222870   22006      97680\n",
       "..                              ...        ...     ...        ...\n",
       "218                  Western Sahara        289       0        174\n",
       "219                           Yemen       2214     367         72\n",
       "220                          Zambia      13445     201       4609\n",
       "221                        Zimbabwe       1648     191        323\n",
       "222  occupied Palestinian territory         25       0          0\n",
       "\n",
       "[223 rows x 4 columns]"
      ]
     },
     "execution_count": 26,
     "metadata": {},
     "output_type": "execute_result"
    }
   ],
   "source": [
    "df.groupby(\"Country\")[['Confirmed', 'Deaths', 'Recovered']].sum().reset_index()"
   ]
  },
  {
   "cell_type": "code",
   "execution_count": null,
   "metadata": {},
   "outputs": [],
   "source": [
    "DATA VISULIZATION"
   ]
  },
  {
   "cell_type": "code",
   "execution_count": 27,
   "metadata": {},
   "outputs": [],
   "source": [
    "del df['SNo']"
   ]
  },
  {
   "cell_type": "code",
   "execution_count": 28,
   "metadata": {},
   "outputs": [
    {
     "data": {
      "text/html": [
       "<div>\n",
       "<style scoped>\n",
       "    .dataframe tbody tr th:only-of-type {\n",
       "        vertical-align: middle;\n",
       "    }\n",
       "\n",
       "    .dataframe tbody tr th {\n",
       "        vertical-align: top;\n",
       "    }\n",
       "\n",
       "    .dataframe thead th {\n",
       "        text-align: right;\n",
       "    }\n",
       "</style>\n",
       "<table border=\"1\" class=\"dataframe\">\n",
       "  <thead>\n",
       "    <tr style=\"text-align: right;\">\n",
       "      <th></th>\n",
       "      <th>Confirmed</th>\n",
       "      <th>Deaths</th>\n",
       "      <th>Recovered</th>\n",
       "    </tr>\n",
       "    <tr>\n",
       "      <th>Date</th>\n",
       "      <th></th>\n",
       "      <th></th>\n",
       "      <th></th>\n",
       "    </tr>\n",
       "  </thead>\n",
       "  <tbody>\n",
       "    <tr>\n",
       "      <th>1/22/2020</th>\n",
       "      <td>555</td>\n",
       "      <td>17</td>\n",
       "      <td>28</td>\n",
       "    </tr>\n",
       "    <tr>\n",
       "      <th>1/23/2020</th>\n",
       "      <td>653</td>\n",
       "      <td>18</td>\n",
       "      <td>30</td>\n",
       "    </tr>\n",
       "    <tr>\n",
       "      <th>1/24/2020</th>\n",
       "      <td>941</td>\n",
       "      <td>26</td>\n",
       "      <td>36</td>\n",
       "    </tr>\n",
       "    <tr>\n",
       "      <th>1/25/2020</th>\n",
       "      <td>1438</td>\n",
       "      <td>42</td>\n",
       "      <td>39</td>\n",
       "    </tr>\n",
       "    <tr>\n",
       "      <th>1/26/2020</th>\n",
       "      <td>2118</td>\n",
       "      <td>56</td>\n",
       "      <td>52</td>\n",
       "    </tr>\n",
       "    <tr>\n",
       "      <th>...</th>\n",
       "      <td>...</td>\n",
       "      <td>...</td>\n",
       "      <td>...</td>\n",
       "    </tr>\n",
       "    <tr>\n",
       "      <th>5/5/2020</th>\n",
       "      <td>3662691</td>\n",
       "      <td>257239</td>\n",
       "      <td>1198832</td>\n",
       "    </tr>\n",
       "    <tr>\n",
       "      <th>5/6/2020</th>\n",
       "      <td>3755341</td>\n",
       "      <td>263831</td>\n",
       "      <td>1245413</td>\n",
       "    </tr>\n",
       "    <tr>\n",
       "      <th>5/7/2020</th>\n",
       "      <td>3845718</td>\n",
       "      <td>269567</td>\n",
       "      <td>1284741</td>\n",
       "    </tr>\n",
       "    <tr>\n",
       "      <th>5/8/2020</th>\n",
       "      <td>3938064</td>\n",
       "      <td>274898</td>\n",
       "      <td>1322050</td>\n",
       "    </tr>\n",
       "    <tr>\n",
       "      <th>5/9/2020</th>\n",
       "      <td>4024009</td>\n",
       "      <td>279311</td>\n",
       "      <td>1375624</td>\n",
       "    </tr>\n",
       "  </tbody>\n",
       "</table>\n",
       "<p>124 rows × 3 columns</p>\n",
       "</div>"
      ],
      "text/plain": [
       "           Confirmed  Deaths  Recovered\n",
       "Date                                   \n",
       "1/22/2020        555      17         28\n",
       "1/23/2020        653      18         30\n",
       "1/24/2020        941      26         36\n",
       "1/25/2020       1438      42         39\n",
       "1/26/2020       2118      56         52\n",
       "...              ...     ...        ...\n",
       "5/5/2020     3662691  257239    1198832\n",
       "5/6/2020     3755341  263831    1245413\n",
       "5/7/2020     3845718  269567    1284741\n",
       "5/8/2020     3938064  274898    1322050\n",
       "5/9/2020     4024009  279311    1375624\n",
       "\n",
       "[124 rows x 3 columns]"
      ]
     },
     "execution_count": 28,
     "metadata": {},
     "output_type": "execute_result"
    }
   ],
   "source": [
    "df.groupby('Date').sum()"
   ]
  },
  {
   "cell_type": "markdown",
   "metadata": {},
   "source": [
    "Summary Plot of Worldwide Cases - Confirmed, Deaths & Recovered"
   ]
  },
  {
   "cell_type": "code",
   "execution_count": 47,
   "metadata": {},
   "outputs": [],
   "source": [
    "confirmed = df.groupby('Date').sum()['Confirmed'].reset_index()\n",
    "deaths = df.groupby('Date').sum()['Deaths'].reset_index()\n",
    "recovered = df.groupby('Date').sum()['Recovered'].reset_index()"
   ]
  },
  {
   "cell_type": "code",
   "execution_count": 38,
   "metadata": {},
   "outputs": [
    {
     "data": {
      "text/html": [
       "<div>\n",
       "<style scoped>\n",
       "    .dataframe tbody tr th:only-of-type {\n",
       "        vertical-align: middle;\n",
       "    }\n",
       "\n",
       "    .dataframe tbody tr th {\n",
       "        vertical-align: top;\n",
       "    }\n",
       "\n",
       "    .dataframe thead th {\n",
       "        text-align: right;\n",
       "    }\n",
       "</style>\n",
       "<table border=\"1\" class=\"dataframe\">\n",
       "  <thead>\n",
       "    <tr style=\"text-align: right;\">\n",
       "      <th></th>\n",
       "      <th>Confirmed</th>\n",
       "      <th>Deaths</th>\n",
       "      <th>Recovered</th>\n",
       "    </tr>\n",
       "    <tr>\n",
       "      <th>Date</th>\n",
       "      <th></th>\n",
       "      <th></th>\n",
       "      <th></th>\n",
       "    </tr>\n",
       "  </thead>\n",
       "  <tbody>\n",
       "    <tr>\n",
       "      <th>1/22/2020</th>\n",
       "      <td>555</td>\n",
       "      <td>17</td>\n",
       "      <td>28</td>\n",
       "    </tr>\n",
       "    <tr>\n",
       "      <th>1/23/2020</th>\n",
       "      <td>653</td>\n",
       "      <td>18</td>\n",
       "      <td>30</td>\n",
       "    </tr>\n",
       "    <tr>\n",
       "      <th>1/24/2020</th>\n",
       "      <td>941</td>\n",
       "      <td>26</td>\n",
       "      <td>36</td>\n",
       "    </tr>\n",
       "    <tr>\n",
       "      <th>1/25/2020</th>\n",
       "      <td>1438</td>\n",
       "      <td>42</td>\n",
       "      <td>39</td>\n",
       "    </tr>\n",
       "    <tr>\n",
       "      <th>1/26/2020</th>\n",
       "      <td>2118</td>\n",
       "      <td>56</td>\n",
       "      <td>52</td>\n",
       "    </tr>\n",
       "    <tr>\n",
       "      <th>1/27/2020</th>\n",
       "      <td>2927</td>\n",
       "      <td>82</td>\n",
       "      <td>61</td>\n",
       "    </tr>\n",
       "    <tr>\n",
       "      <th>1/28/2020</th>\n",
       "      <td>5578</td>\n",
       "      <td>131</td>\n",
       "      <td>107</td>\n",
       "    </tr>\n",
       "    <tr>\n",
       "      <th>1/29/2020</th>\n",
       "      <td>6165</td>\n",
       "      <td>133</td>\n",
       "      <td>126</td>\n",
       "    </tr>\n",
       "    <tr>\n",
       "      <th>1/30/2020</th>\n",
       "      <td>8235</td>\n",
       "      <td>171</td>\n",
       "      <td>143</td>\n",
       "    </tr>\n",
       "    <tr>\n",
       "      <th>1/31/2020</th>\n",
       "      <td>9925</td>\n",
       "      <td>213</td>\n",
       "      <td>222</td>\n",
       "    </tr>\n",
       "    <tr>\n",
       "      <th>2/1/2020</th>\n",
       "      <td>12038</td>\n",
       "      <td>259</td>\n",
       "      <td>284</td>\n",
       "    </tr>\n",
       "    <tr>\n",
       "      <th>2/10/2020</th>\n",
       "      <td>42763</td>\n",
       "      <td>1013</td>\n",
       "      <td>3946</td>\n",
       "    </tr>\n",
       "    <tr>\n",
       "      <th>2/11/2020</th>\n",
       "      <td>44803</td>\n",
       "      <td>1113</td>\n",
       "      <td>4683</td>\n",
       "    </tr>\n",
       "    <tr>\n",
       "      <th>2/12/2020</th>\n",
       "      <td>45222</td>\n",
       "      <td>1118</td>\n",
       "      <td>5150</td>\n",
       "    </tr>\n",
       "    <tr>\n",
       "      <th>2/13/2020</th>\n",
       "      <td>60370</td>\n",
       "      <td>1371</td>\n",
       "      <td>6295</td>\n",
       "    </tr>\n",
       "    <tr>\n",
       "      <th>2/14/2020</th>\n",
       "      <td>66887</td>\n",
       "      <td>1523</td>\n",
       "      <td>8058</td>\n",
       "    </tr>\n",
       "    <tr>\n",
       "      <th>2/15/2020</th>\n",
       "      <td>69032</td>\n",
       "      <td>1666</td>\n",
       "      <td>9395</td>\n",
       "    </tr>\n",
       "    <tr>\n",
       "      <th>2/16/2020</th>\n",
       "      <td>71226</td>\n",
       "      <td>1770</td>\n",
       "      <td>10865</td>\n",
       "    </tr>\n",
       "    <tr>\n",
       "      <th>2/17/2020</th>\n",
       "      <td>73260</td>\n",
       "      <td>1868</td>\n",
       "      <td>12583</td>\n",
       "    </tr>\n",
       "    <tr>\n",
       "      <th>2/18/2020</th>\n",
       "      <td>75138</td>\n",
       "      <td>2007</td>\n",
       "      <td>14352</td>\n",
       "    </tr>\n",
       "    <tr>\n",
       "      <th>2/19/2020</th>\n",
       "      <td>75641</td>\n",
       "      <td>2122</td>\n",
       "      <td>16121</td>\n",
       "    </tr>\n",
       "    <tr>\n",
       "      <th>2/2/2020</th>\n",
       "      <td>16787</td>\n",
       "      <td>362</td>\n",
       "      <td>472</td>\n",
       "    </tr>\n",
       "    <tr>\n",
       "      <th>2/20/2020</th>\n",
       "      <td>76199</td>\n",
       "      <td>2247</td>\n",
       "      <td>18177</td>\n",
       "    </tr>\n",
       "    <tr>\n",
       "      <th>2/21/2020</th>\n",
       "      <td>76843</td>\n",
       "      <td>2251</td>\n",
       "      <td>18890</td>\n",
       "    </tr>\n",
       "    <tr>\n",
       "      <th>2/22/2020</th>\n",
       "      <td>78599</td>\n",
       "      <td>2458</td>\n",
       "      <td>22886</td>\n",
       "    </tr>\n",
       "    <tr>\n",
       "      <th>2/23/2020</th>\n",
       "      <td>78985</td>\n",
       "      <td>2469</td>\n",
       "      <td>23394</td>\n",
       "    </tr>\n",
       "    <tr>\n",
       "      <th>2/24/2020</th>\n",
       "      <td>79570</td>\n",
       "      <td>2629</td>\n",
       "      <td>25227</td>\n",
       "    </tr>\n",
       "    <tr>\n",
       "      <th>2/25/2020</th>\n",
       "      <td>80415</td>\n",
       "      <td>2708</td>\n",
       "      <td>27905</td>\n",
       "    </tr>\n",
       "    <tr>\n",
       "      <th>2/26/2020</th>\n",
       "      <td>81397</td>\n",
       "      <td>2770</td>\n",
       "      <td>30384</td>\n",
       "    </tr>\n",
       "    <tr>\n",
       "      <th>2/27/2020</th>\n",
       "      <td>82756</td>\n",
       "      <td>2814</td>\n",
       "      <td>33277</td>\n",
       "    </tr>\n",
       "    <tr>\n",
       "      <th>2/28/2020</th>\n",
       "      <td>84124</td>\n",
       "      <td>2872</td>\n",
       "      <td>36711</td>\n",
       "    </tr>\n",
       "    <tr>\n",
       "      <th>2/29/2020</th>\n",
       "      <td>86013</td>\n",
       "      <td>2941</td>\n",
       "      <td>39782</td>\n",
       "    </tr>\n",
       "    <tr>\n",
       "      <th>2/3/2020</th>\n",
       "      <td>19881</td>\n",
       "      <td>426</td>\n",
       "      <td>623</td>\n",
       "    </tr>\n",
       "    <tr>\n",
       "      <th>2/4/2020</th>\n",
       "      <td>23892</td>\n",
       "      <td>492</td>\n",
       "      <td>852</td>\n",
       "    </tr>\n",
       "    <tr>\n",
       "      <th>2/5/2020</th>\n",
       "      <td>27636</td>\n",
       "      <td>564</td>\n",
       "      <td>1124</td>\n",
       "    </tr>\n",
       "    <tr>\n",
       "      <th>2/6/2020</th>\n",
       "      <td>30818</td>\n",
       "      <td>634</td>\n",
       "      <td>1487</td>\n",
       "    </tr>\n",
       "    <tr>\n",
       "      <th>2/7/2020</th>\n",
       "      <td>34392</td>\n",
       "      <td>719</td>\n",
       "      <td>2011</td>\n",
       "    </tr>\n",
       "    <tr>\n",
       "      <th>2/8/2020</th>\n",
       "      <td>37121</td>\n",
       "      <td>806</td>\n",
       "      <td>2616</td>\n",
       "    </tr>\n",
       "    <tr>\n",
       "      <th>2/9/2020</th>\n",
       "      <td>40151</td>\n",
       "      <td>906</td>\n",
       "      <td>3244</td>\n",
       "    </tr>\n",
       "    <tr>\n",
       "      <th>3/1/2020</th>\n",
       "      <td>88371</td>\n",
       "      <td>2996</td>\n",
       "      <td>42716</td>\n",
       "    </tr>\n",
       "    <tr>\n",
       "      <th>3/10/2020</th>\n",
       "      <td>118582</td>\n",
       "      <td>4262</td>\n",
       "      <td>64404</td>\n",
       "    </tr>\n",
       "    <tr>\n",
       "      <th>3/11/2020</th>\n",
       "      <td>125865</td>\n",
       "      <td>4615</td>\n",
       "      <td>67003</td>\n",
       "    </tr>\n",
       "    <tr>\n",
       "      <th>3/12/2020</th>\n",
       "      <td>128343</td>\n",
       "      <td>4720</td>\n",
       "      <td>68324</td>\n",
       "    </tr>\n",
       "    <tr>\n",
       "      <th>3/13/2020</th>\n",
       "      <td>145193</td>\n",
       "      <td>5404</td>\n",
       "      <td>70251</td>\n",
       "    </tr>\n",
       "    <tr>\n",
       "      <th>3/14/2020</th>\n",
       "      <td>156099</td>\n",
       "      <td>5819</td>\n",
       "      <td>72624</td>\n",
       "    </tr>\n",
       "    <tr>\n",
       "      <th>3/15/2020</th>\n",
       "      <td>167447</td>\n",
       "      <td>6440</td>\n",
       "      <td>76034</td>\n",
       "    </tr>\n",
       "    <tr>\n",
       "      <th>3/16/2020</th>\n",
       "      <td>181546</td>\n",
       "      <td>7126</td>\n",
       "      <td>78088</td>\n",
       "    </tr>\n",
       "    <tr>\n",
       "      <th>3/17/2020</th>\n",
       "      <td>197168</td>\n",
       "      <td>7905</td>\n",
       "      <td>80840</td>\n",
       "    </tr>\n",
       "    <tr>\n",
       "      <th>3/18/2020</th>\n",
       "      <td>214915</td>\n",
       "      <td>8733</td>\n",
       "      <td>83313</td>\n",
       "    </tr>\n",
       "    <tr>\n",
       "      <th>3/19/2020</th>\n",
       "      <td>242713</td>\n",
       "      <td>9867</td>\n",
       "      <td>84962</td>\n",
       "    </tr>\n",
       "  </tbody>\n",
       "</table>\n",
       "</div>"
      ],
      "text/plain": [
       "           Confirmed  Deaths  Recovered\n",
       "Date                                   \n",
       "1/22/2020        555      17         28\n",
       "1/23/2020        653      18         30\n",
       "1/24/2020        941      26         36\n",
       "1/25/2020       1438      42         39\n",
       "1/26/2020       2118      56         52\n",
       "1/27/2020       2927      82         61\n",
       "1/28/2020       5578     131        107\n",
       "1/29/2020       6165     133        126\n",
       "1/30/2020       8235     171        143\n",
       "1/31/2020       9925     213        222\n",
       "2/1/2020       12038     259        284\n",
       "2/10/2020      42763    1013       3946\n",
       "2/11/2020      44803    1113       4683\n",
       "2/12/2020      45222    1118       5150\n",
       "2/13/2020      60370    1371       6295\n",
       "2/14/2020      66887    1523       8058\n",
       "2/15/2020      69032    1666       9395\n",
       "2/16/2020      71226    1770      10865\n",
       "2/17/2020      73260    1868      12583\n",
       "2/18/2020      75138    2007      14352\n",
       "2/19/2020      75641    2122      16121\n",
       "2/2/2020       16787     362        472\n",
       "2/20/2020      76199    2247      18177\n",
       "2/21/2020      76843    2251      18890\n",
       "2/22/2020      78599    2458      22886\n",
       "2/23/2020      78985    2469      23394\n",
       "2/24/2020      79570    2629      25227\n",
       "2/25/2020      80415    2708      27905\n",
       "2/26/2020      81397    2770      30384\n",
       "2/27/2020      82756    2814      33277\n",
       "2/28/2020      84124    2872      36711\n",
       "2/29/2020      86013    2941      39782\n",
       "2/3/2020       19881     426        623\n",
       "2/4/2020       23892     492        852\n",
       "2/5/2020       27636     564       1124\n",
       "2/6/2020       30818     634       1487\n",
       "2/7/2020       34392     719       2011\n",
       "2/8/2020       37121     806       2616\n",
       "2/9/2020       40151     906       3244\n",
       "3/1/2020       88371    2996      42716\n",
       "3/10/2020     118582    4262      64404\n",
       "3/11/2020     125865    4615      67003\n",
       "3/12/2020     128343    4720      68324\n",
       "3/13/2020     145193    5404      70251\n",
       "3/14/2020     156099    5819      72624\n",
       "3/15/2020     167447    6440      76034\n",
       "3/16/2020     181546    7126      78088\n",
       "3/17/2020     197168    7905      80840\n",
       "3/18/2020     214915    8733      83313\n",
       "3/19/2020     242713    9867      84962"
      ]
     },
     "execution_count": 38,
     "metadata": {},
     "output_type": "execute_result"
    }
   ],
   "source": [
    "confirmed.head(50)"
   ]
  },
  {
   "cell_type": "code",
   "execution_count": 32,
   "metadata": {
    "scrolled": true
   },
   "outputs": [
    {
     "data": {
      "application/vnd.plotly.v1+json": {
       "config": {
        "plotlyServerURL": "https://plot.ly"
       },
       "data": [
        {
         "line": {
          "color": "blue",
          "width": 1
         },
         "mode": "lines+markers",
         "name": "Confirmed",
         "type": "scatter",
         "x": [
          "1/22/2020",
          "1/23/2020",
          "1/24/2020",
          "1/25/2020",
          "1/26/2020",
          "1/27/2020",
          "1/28/2020",
          "1/29/2020",
          "1/30/2020",
          "1/31/2020",
          "2/1/2020",
          "2/10/2020",
          "2/11/2020",
          "2/12/2020",
          "2/13/2020",
          "2/14/2020",
          "2/15/2020",
          "2/16/2020",
          "2/17/2020",
          "2/18/2020",
          "2/19/2020",
          "2/2/2020",
          "2/20/2020",
          "2/21/2020",
          "2/22/2020",
          "2/23/2020",
          "2/24/2020",
          "2/25/2020",
          "2/26/2020",
          "2/27/2020",
          "2/28/2020",
          "2/29/2020",
          "2/3/2020",
          "2/4/2020",
          "2/5/2020",
          "2/6/2020",
          "2/7/2020",
          "2/8/2020",
          "2/9/2020",
          "3/1/2020",
          "3/10/2020",
          "3/11/2020",
          "3/12/2020",
          "3/13/2020",
          "3/14/2020",
          "3/15/2020",
          "3/16/2020",
          "3/17/2020",
          "3/18/2020",
          "3/19/2020",
          "3/2/2020",
          "3/20/2020",
          "3/21/2020",
          "3/22/2020",
          "3/23/2020",
          "3/24/2020",
          "3/25/2020",
          "3/26/2020",
          "3/27/2020",
          "3/28/2020",
          "3/29/2020",
          "3/3/2020",
          "3/30/2020",
          "3/31/2020",
          "3/4/2020",
          "3/5/2020",
          "3/6/2020",
          "3/7/2020",
          "3/8/2020",
          "3/9/2020",
          "4/1/2020",
          "4/10/2020",
          "4/11/2020",
          "4/12/2020",
          "4/13/2020",
          "4/14/2020",
          "4/15/2020",
          "4/16/2020",
          "4/17/2020",
          "4/18/2020",
          "4/19/2020",
          "4/2/2020",
          "4/20/2020",
          "4/21/2020",
          "4/22/2020",
          "4/23/2020",
          "4/24/2020",
          "4/25/2020",
          "4/26/2020",
          "4/27/2020",
          "4/28/2020",
          "4/29/2020",
          "4/3/2020",
          "4/30/2020",
          "4/4/2020",
          "4/5/2020",
          "4/6/2020",
          "4/7/2020",
          "4/8/2020",
          "4/9/2020",
          "5/1/2020",
          "5/10/2020",
          "5/11/2020",
          "5/12/2020",
          "5/13/2020",
          "5/14/2020",
          "5/15/2020",
          "5/16/2020",
          "5/17/2020",
          "5/18/2020",
          "5/19/2020",
          "5/2/2020",
          "5/20/2020",
          "5/21/2020",
          "5/22/2020",
          "5/23/2020",
          "5/24/2020",
          "5/3/2020",
          "5/4/2020",
          "5/5/2020",
          "5/6/2020",
          "5/7/2020",
          "5/8/2020",
          "5/9/2020"
         ],
         "y": [
          555,
          653,
          941,
          1438,
          2118,
          2927,
          5578,
          6165,
          8235,
          9925,
          12038,
          42763,
          44803,
          45222,
          60370,
          66887,
          69032,
          71226,
          73260,
          75138,
          75641,
          16787,
          76199,
          76843,
          78599,
          78985,
          79570,
          80415,
          81397,
          82756,
          84124,
          86013,
          19881,
          23892,
          27636,
          30818,
          34392,
          37121,
          40151,
          88371,
          118582,
          125865,
          128343,
          145193,
          156099,
          167447,
          181546,
          197168,
          214915,
          242713,
          90309,
          272167,
          304549,
          337122,
          378283,
          417962,
          467594,
          529591,
          593291,
          660693,
          720140,
          92844,
          782389,
          857487,
          95124,
          97886,
          101800,
          105836,
          109835,
          113582,
          932605,
          1691719,
          1771514,
          1846680,
          1917320,
          1976192,
          2056055,
          2152647,
          2240191,
          2317759,
          2401379,
          1013303,
          2472259,
          2549123,
          2623960,
          2708885,
          2810715,
          2896746,
          2971475,
          3041764,
          3116398,
          3193886,
          1095917,
          3256846,
          1197408,
          1272115,
          1345101,
          1426096,
          1511104,
          1595350,
          3343777,
          4101699,
          4177504,
          4261955,
          4347018,
          4442163,
          4542347,
          4634068,
          4713620,
          4801943,
          4897492,
          3427343,
          4996472,
          5102424,
          5210817,
          5310362,
          5407613,
          3506729,
          3583055,
          3662691,
          3755341,
          3845718,
          3938064,
          4024009
         ]
        },
        {
         "line": {
          "color": "Red",
          "width": 1
         },
         "mode": "lines+markers",
         "name": "Deaths",
         "type": "scatter",
         "x": [
          "1/22/2020",
          "1/23/2020",
          "1/24/2020",
          "1/25/2020",
          "1/26/2020",
          "1/27/2020",
          "1/28/2020",
          "1/29/2020",
          "1/30/2020",
          "1/31/2020",
          "2/1/2020",
          "2/10/2020",
          "2/11/2020",
          "2/12/2020",
          "2/13/2020",
          "2/14/2020",
          "2/15/2020",
          "2/16/2020",
          "2/17/2020",
          "2/18/2020",
          "2/19/2020",
          "2/2/2020",
          "2/20/2020",
          "2/21/2020",
          "2/22/2020",
          "2/23/2020",
          "2/24/2020",
          "2/25/2020",
          "2/26/2020",
          "2/27/2020",
          "2/28/2020",
          "2/29/2020",
          "2/3/2020",
          "2/4/2020",
          "2/5/2020",
          "2/6/2020",
          "2/7/2020",
          "2/8/2020",
          "2/9/2020",
          "3/1/2020",
          "3/10/2020",
          "3/11/2020",
          "3/12/2020",
          "3/13/2020",
          "3/14/2020",
          "3/15/2020",
          "3/16/2020",
          "3/17/2020",
          "3/18/2020",
          "3/19/2020",
          "3/2/2020",
          "3/20/2020",
          "3/21/2020",
          "3/22/2020",
          "3/23/2020",
          "3/24/2020",
          "3/25/2020",
          "3/26/2020",
          "3/27/2020",
          "3/28/2020",
          "3/29/2020",
          "3/3/2020",
          "3/30/2020",
          "3/31/2020",
          "3/4/2020",
          "3/5/2020",
          "3/6/2020",
          "3/7/2020",
          "3/8/2020",
          "3/9/2020",
          "4/1/2020",
          "4/10/2020",
          "4/11/2020",
          "4/12/2020",
          "4/13/2020",
          "4/14/2020",
          "4/15/2020",
          "4/16/2020",
          "4/17/2020",
          "4/18/2020",
          "4/19/2020",
          "4/2/2020",
          "4/20/2020",
          "4/21/2020",
          "4/22/2020",
          "4/23/2020",
          "4/24/2020",
          "4/25/2020",
          "4/26/2020",
          "4/27/2020",
          "4/28/2020",
          "4/29/2020",
          "4/3/2020",
          "4/30/2020",
          "4/4/2020",
          "4/5/2020",
          "4/6/2020",
          "4/7/2020",
          "4/8/2020",
          "4/9/2020",
          "5/1/2020",
          "5/10/2020",
          "5/11/2020",
          "5/12/2020",
          "5/13/2020",
          "5/14/2020",
          "5/15/2020",
          "5/16/2020",
          "5/17/2020",
          "5/18/2020",
          "5/19/2020",
          "5/2/2020",
          "5/20/2020",
          "5/21/2020",
          "5/22/2020",
          "5/23/2020",
          "5/24/2020",
          "5/3/2020",
          "5/4/2020",
          "5/5/2020",
          "5/6/2020",
          "5/7/2020",
          "5/8/2020",
          "5/9/2020"
         ],
         "y": [
          17,
          18,
          26,
          42,
          56,
          82,
          131,
          133,
          171,
          213,
          259,
          1013,
          1113,
          1118,
          1371,
          1523,
          1666,
          1770,
          1868,
          2007,
          2122,
          362,
          2247,
          2251,
          2458,
          2469,
          2629,
          2708,
          2770,
          2814,
          2872,
          2941,
          426,
          492,
          564,
          634,
          719,
          806,
          906,
          2996,
          4262,
          4615,
          4720,
          5404,
          5819,
          6440,
          7126,
          7905,
          8733,
          9867,
          3085,
          11299,
          12973,
          14623,
          16497,
          18615,
          21181,
          23970,
          27198,
          30652,
          33925,
          3160,
          37582,
          42107,
          3254,
          3348,
          3460,
          3558,
          3803,
          3996,
          46809,
          102525,
          108502,
          114089,
          119482,
          125984,
          134177,
          143801,
          153822,
          159510,
          165044,
          52983,
          169986,
          176583,
          183066,
          190858,
          197151,
          202846,
          206544,
          211167,
          217153,
          227638,
          58787,
          233388,
          64606,
          69374,
          74565,
          81865,
          88338,
          95455,
          238650,
          282709,
          286330,
          291964,
          297197,
          302418,
          307666,
          311781,
          315185,
          318481,
          323285,
          243808,
          328115,
          332924,
          338160,
          342097,
          345059,
          247470,
          251537,
          257239,
          263831,
          269567,
          274898,
          279311
         ]
        },
        {
         "line": {
          "color": "Green",
          "width": 1
         },
         "mode": "lines+markers",
         "name": "Recovered",
         "type": "scatter",
         "x": [
          "1/22/2020",
          "1/23/2020",
          "1/24/2020",
          "1/25/2020",
          "1/26/2020",
          "1/27/2020",
          "1/28/2020",
          "1/29/2020",
          "1/30/2020",
          "1/31/2020",
          "2/1/2020",
          "2/10/2020",
          "2/11/2020",
          "2/12/2020",
          "2/13/2020",
          "2/14/2020",
          "2/15/2020",
          "2/16/2020",
          "2/17/2020",
          "2/18/2020",
          "2/19/2020",
          "2/2/2020",
          "2/20/2020",
          "2/21/2020",
          "2/22/2020",
          "2/23/2020",
          "2/24/2020",
          "2/25/2020",
          "2/26/2020",
          "2/27/2020",
          "2/28/2020",
          "2/29/2020",
          "2/3/2020",
          "2/4/2020",
          "2/5/2020",
          "2/6/2020",
          "2/7/2020",
          "2/8/2020",
          "2/9/2020",
          "3/1/2020",
          "3/10/2020",
          "3/11/2020",
          "3/12/2020",
          "3/13/2020",
          "3/14/2020",
          "3/15/2020",
          "3/16/2020",
          "3/17/2020",
          "3/18/2020",
          "3/19/2020",
          "3/2/2020",
          "3/20/2020",
          "3/21/2020",
          "3/22/2020",
          "3/23/2020",
          "3/24/2020",
          "3/25/2020",
          "3/26/2020",
          "3/27/2020",
          "3/28/2020",
          "3/29/2020",
          "3/3/2020",
          "3/30/2020",
          "3/31/2020",
          "3/4/2020",
          "3/5/2020",
          "3/6/2020",
          "3/7/2020",
          "3/8/2020",
          "3/9/2020",
          "4/1/2020",
          "4/10/2020",
          "4/11/2020",
          "4/12/2020",
          "4/13/2020",
          "4/14/2020",
          "4/15/2020",
          "4/16/2020",
          "4/17/2020",
          "4/18/2020",
          "4/19/2020",
          "4/2/2020",
          "4/20/2020",
          "4/21/2020",
          "4/22/2020",
          "4/23/2020",
          "4/24/2020",
          "4/25/2020",
          "4/26/2020",
          "4/27/2020",
          "4/28/2020",
          "4/29/2020",
          "4/3/2020",
          "4/30/2020",
          "4/4/2020",
          "4/5/2020",
          "4/6/2020",
          "4/7/2020",
          "4/8/2020",
          "4/9/2020",
          "5/1/2020",
          "5/10/2020",
          "5/11/2020",
          "5/12/2020",
          "5/13/2020",
          "5/14/2020",
          "5/15/2020",
          "5/16/2020",
          "5/17/2020",
          "5/18/2020",
          "5/19/2020",
          "5/2/2020",
          "5/20/2020",
          "5/21/2020",
          "5/22/2020",
          "5/23/2020",
          "5/24/2020",
          "5/3/2020",
          "5/4/2020",
          "5/5/2020",
          "5/6/2020",
          "5/7/2020",
          "5/8/2020",
          "5/9/2020"
         ],
         "y": [
          28,
          30,
          36,
          39,
          52,
          61,
          107,
          126,
          143,
          222,
          284,
          3946,
          4683,
          5150,
          6295,
          8058,
          9395,
          10865,
          12583,
          14352,
          16121,
          472,
          18177,
          18890,
          22886,
          23394,
          25227,
          27905,
          30384,
          33277,
          36711,
          39782,
          623,
          852,
          1124,
          1487,
          2011,
          2616,
          3244,
          42716,
          64404,
          67003,
          68324,
          70251,
          72624,
          76034,
          78088,
          80840,
          83313,
          84962,
          45602,
          87403,
          91676,
          97243,
          100958,
          107699,
          113764,
          122144,
          130909,
          139409,
          149076,
          48229,
          164560,
          178028,
          51171,
          53797,
          55866,
          58359,
          60695,
          62512,
          193171,
          376096,
          402110,
          421722,
          448655,
          474261,
          511019,
          542107,
          568343,
          592319,
          623903,
          210263,
          645738,
          679819,
          709694,
          738486,
          793420,
          816685,
          865733,
          893967,
          928658,
          972719,
          225796,
          1014753,
          246152,
          260012,
          276515,
          300054,
          328661,
          353975,
          1053327,
          1408980,
          1456209,
          1493414,
          1548547,
          1587893,
          1637067,
          1693197,
          1733963,
          1786875,
          1838995,
          1093112,
          1897466,
          1948739,
          2056643,
          2112185,
          2168563,
          1125236,
          1162724,
          1198832,
          1245413,
          1284741,
          1322050,
          1375624
         ]
        }
       ],
       "layout": {
        "legend": {
         "bgcolor": "rgba(255, 255, 255, 0)",
         "bordercolor": "rgba(255, 255, 255, 0)",
         "x": 0,
         "y": 1
        },
        "template": {
         "data": {
          "bar": [
           {
            "error_x": {
             "color": "#2a3f5f"
            },
            "error_y": {
             "color": "#2a3f5f"
            },
            "marker": {
             "line": {
              "color": "#E5ECF6",
              "width": 0.5
             }
            },
            "type": "bar"
           }
          ],
          "barpolar": [
           {
            "marker": {
             "line": {
              "color": "#E5ECF6",
              "width": 0.5
             }
            },
            "type": "barpolar"
           }
          ],
          "carpet": [
           {
            "aaxis": {
             "endlinecolor": "#2a3f5f",
             "gridcolor": "white",
             "linecolor": "white",
             "minorgridcolor": "white",
             "startlinecolor": "#2a3f5f"
            },
            "baxis": {
             "endlinecolor": "#2a3f5f",
             "gridcolor": "white",
             "linecolor": "white",
             "minorgridcolor": "white",
             "startlinecolor": "#2a3f5f"
            },
            "type": "carpet"
           }
          ],
          "choropleth": [
           {
            "colorbar": {
             "outlinewidth": 0,
             "ticks": ""
            },
            "type": "choropleth"
           }
          ],
          "contour": [
           {
            "colorbar": {
             "outlinewidth": 0,
             "ticks": ""
            },
            "colorscale": [
             [
              0,
              "#0d0887"
             ],
             [
              0.1111111111111111,
              "#46039f"
             ],
             [
              0.2222222222222222,
              "#7201a8"
             ],
             [
              0.3333333333333333,
              "#9c179e"
             ],
             [
              0.4444444444444444,
              "#bd3786"
             ],
             [
              0.5555555555555556,
              "#d8576b"
             ],
             [
              0.6666666666666666,
              "#ed7953"
             ],
             [
              0.7777777777777778,
              "#fb9f3a"
             ],
             [
              0.8888888888888888,
              "#fdca26"
             ],
             [
              1,
              "#f0f921"
             ]
            ],
            "type": "contour"
           }
          ],
          "contourcarpet": [
           {
            "colorbar": {
             "outlinewidth": 0,
             "ticks": ""
            },
            "type": "contourcarpet"
           }
          ],
          "heatmap": [
           {
            "colorbar": {
             "outlinewidth": 0,
             "ticks": ""
            },
            "colorscale": [
             [
              0,
              "#0d0887"
             ],
             [
              0.1111111111111111,
              "#46039f"
             ],
             [
              0.2222222222222222,
              "#7201a8"
             ],
             [
              0.3333333333333333,
              "#9c179e"
             ],
             [
              0.4444444444444444,
              "#bd3786"
             ],
             [
              0.5555555555555556,
              "#d8576b"
             ],
             [
              0.6666666666666666,
              "#ed7953"
             ],
             [
              0.7777777777777778,
              "#fb9f3a"
             ],
             [
              0.8888888888888888,
              "#fdca26"
             ],
             [
              1,
              "#f0f921"
             ]
            ],
            "type": "heatmap"
           }
          ],
          "heatmapgl": [
           {
            "colorbar": {
             "outlinewidth": 0,
             "ticks": ""
            },
            "colorscale": [
             [
              0,
              "#0d0887"
             ],
             [
              0.1111111111111111,
              "#46039f"
             ],
             [
              0.2222222222222222,
              "#7201a8"
             ],
             [
              0.3333333333333333,
              "#9c179e"
             ],
             [
              0.4444444444444444,
              "#bd3786"
             ],
             [
              0.5555555555555556,
              "#d8576b"
             ],
             [
              0.6666666666666666,
              "#ed7953"
             ],
             [
              0.7777777777777778,
              "#fb9f3a"
             ],
             [
              0.8888888888888888,
              "#fdca26"
             ],
             [
              1,
              "#f0f921"
             ]
            ],
            "type": "heatmapgl"
           }
          ],
          "histogram": [
           {
            "marker": {
             "colorbar": {
              "outlinewidth": 0,
              "ticks": ""
             }
            },
            "type": "histogram"
           }
          ],
          "histogram2d": [
           {
            "colorbar": {
             "outlinewidth": 0,
             "ticks": ""
            },
            "colorscale": [
             [
              0,
              "#0d0887"
             ],
             [
              0.1111111111111111,
              "#46039f"
             ],
             [
              0.2222222222222222,
              "#7201a8"
             ],
             [
              0.3333333333333333,
              "#9c179e"
             ],
             [
              0.4444444444444444,
              "#bd3786"
             ],
             [
              0.5555555555555556,
              "#d8576b"
             ],
             [
              0.6666666666666666,
              "#ed7953"
             ],
             [
              0.7777777777777778,
              "#fb9f3a"
             ],
             [
              0.8888888888888888,
              "#fdca26"
             ],
             [
              1,
              "#f0f921"
             ]
            ],
            "type": "histogram2d"
           }
          ],
          "histogram2dcontour": [
           {
            "colorbar": {
             "outlinewidth": 0,
             "ticks": ""
            },
            "colorscale": [
             [
              0,
              "#0d0887"
             ],
             [
              0.1111111111111111,
              "#46039f"
             ],
             [
              0.2222222222222222,
              "#7201a8"
             ],
             [
              0.3333333333333333,
              "#9c179e"
             ],
             [
              0.4444444444444444,
              "#bd3786"
             ],
             [
              0.5555555555555556,
              "#d8576b"
             ],
             [
              0.6666666666666666,
              "#ed7953"
             ],
             [
              0.7777777777777778,
              "#fb9f3a"
             ],
             [
              0.8888888888888888,
              "#fdca26"
             ],
             [
              1,
              "#f0f921"
             ]
            ],
            "type": "histogram2dcontour"
           }
          ],
          "mesh3d": [
           {
            "colorbar": {
             "outlinewidth": 0,
             "ticks": ""
            },
            "type": "mesh3d"
           }
          ],
          "parcoords": [
           {
            "line": {
             "colorbar": {
              "outlinewidth": 0,
              "ticks": ""
             }
            },
            "type": "parcoords"
           }
          ],
          "pie": [
           {
            "automargin": true,
            "type": "pie"
           }
          ],
          "scatter": [
           {
            "marker": {
             "colorbar": {
              "outlinewidth": 0,
              "ticks": ""
             }
            },
            "type": "scatter"
           }
          ],
          "scatter3d": [
           {
            "line": {
             "colorbar": {
              "outlinewidth": 0,
              "ticks": ""
             }
            },
            "marker": {
             "colorbar": {
              "outlinewidth": 0,
              "ticks": ""
             }
            },
            "type": "scatter3d"
           }
          ],
          "scattercarpet": [
           {
            "marker": {
             "colorbar": {
              "outlinewidth": 0,
              "ticks": ""
             }
            },
            "type": "scattercarpet"
           }
          ],
          "scattergeo": [
           {
            "marker": {
             "colorbar": {
              "outlinewidth": 0,
              "ticks": ""
             }
            },
            "type": "scattergeo"
           }
          ],
          "scattergl": [
           {
            "marker": {
             "colorbar": {
              "outlinewidth": 0,
              "ticks": ""
             }
            },
            "type": "scattergl"
           }
          ],
          "scattermapbox": [
           {
            "marker": {
             "colorbar": {
              "outlinewidth": 0,
              "ticks": ""
             }
            },
            "type": "scattermapbox"
           }
          ],
          "scatterpolar": [
           {
            "marker": {
             "colorbar": {
              "outlinewidth": 0,
              "ticks": ""
             }
            },
            "type": "scatterpolar"
           }
          ],
          "scatterpolargl": [
           {
            "marker": {
             "colorbar": {
              "outlinewidth": 0,
              "ticks": ""
             }
            },
            "type": "scatterpolargl"
           }
          ],
          "scatterternary": [
           {
            "marker": {
             "colorbar": {
              "outlinewidth": 0,
              "ticks": ""
             }
            },
            "type": "scatterternary"
           }
          ],
          "surface": [
           {
            "colorbar": {
             "outlinewidth": 0,
             "ticks": ""
            },
            "colorscale": [
             [
              0,
              "#0d0887"
             ],
             [
              0.1111111111111111,
              "#46039f"
             ],
             [
              0.2222222222222222,
              "#7201a8"
             ],
             [
              0.3333333333333333,
              "#9c179e"
             ],
             [
              0.4444444444444444,
              "#bd3786"
             ],
             [
              0.5555555555555556,
              "#d8576b"
             ],
             [
              0.6666666666666666,
              "#ed7953"
             ],
             [
              0.7777777777777778,
              "#fb9f3a"
             ],
             [
              0.8888888888888888,
              "#fdca26"
             ],
             [
              1,
              "#f0f921"
             ]
            ],
            "type": "surface"
           }
          ],
          "table": [
           {
            "cells": {
             "fill": {
              "color": "#EBF0F8"
             },
             "line": {
              "color": "white"
             }
            },
            "header": {
             "fill": {
              "color": "#C8D4E3"
             },
             "line": {
              "color": "white"
             }
            },
            "type": "table"
           }
          ]
         },
         "layout": {
          "annotationdefaults": {
           "arrowcolor": "#2a3f5f",
           "arrowhead": 0,
           "arrowwidth": 1
          },
          "coloraxis": {
           "colorbar": {
            "outlinewidth": 0,
            "ticks": ""
           }
          },
          "colorscale": {
           "diverging": [
            [
             0,
             "#8e0152"
            ],
            [
             0.1,
             "#c51b7d"
            ],
            [
             0.2,
             "#de77ae"
            ],
            [
             0.3,
             "#f1b6da"
            ],
            [
             0.4,
             "#fde0ef"
            ],
            [
             0.5,
             "#f7f7f7"
            ],
            [
             0.6,
             "#e6f5d0"
            ],
            [
             0.7,
             "#b8e186"
            ],
            [
             0.8,
             "#7fbc41"
            ],
            [
             0.9,
             "#4d9221"
            ],
            [
             1,
             "#276419"
            ]
           ],
           "sequential": [
            [
             0,
             "#0d0887"
            ],
            [
             0.1111111111111111,
             "#46039f"
            ],
            [
             0.2222222222222222,
             "#7201a8"
            ],
            [
             0.3333333333333333,
             "#9c179e"
            ],
            [
             0.4444444444444444,
             "#bd3786"
            ],
            [
             0.5555555555555556,
             "#d8576b"
            ],
            [
             0.6666666666666666,
             "#ed7953"
            ],
            [
             0.7777777777777778,
             "#fb9f3a"
            ],
            [
             0.8888888888888888,
             "#fdca26"
            ],
            [
             1,
             "#f0f921"
            ]
           ],
           "sequentialminus": [
            [
             0,
             "#0d0887"
            ],
            [
             0.1111111111111111,
             "#46039f"
            ],
            [
             0.2222222222222222,
             "#7201a8"
            ],
            [
             0.3333333333333333,
             "#9c179e"
            ],
            [
             0.4444444444444444,
             "#bd3786"
            ],
            [
             0.5555555555555556,
             "#d8576b"
            ],
            [
             0.6666666666666666,
             "#ed7953"
            ],
            [
             0.7777777777777778,
             "#fb9f3a"
            ],
            [
             0.8888888888888888,
             "#fdca26"
            ],
            [
             1,
             "#f0f921"
            ]
           ]
          },
          "colorway": [
           "#636efa",
           "#EF553B",
           "#00cc96",
           "#ab63fa",
           "#FFA15A",
           "#19d3f3",
           "#FF6692",
           "#B6E880",
           "#FF97FF",
           "#FECB52"
          ],
          "font": {
           "color": "#2a3f5f"
          },
          "geo": {
           "bgcolor": "white",
           "lakecolor": "white",
           "landcolor": "#E5ECF6",
           "showlakes": true,
           "showland": true,
           "subunitcolor": "white"
          },
          "hoverlabel": {
           "align": "left"
          },
          "hovermode": "closest",
          "mapbox": {
           "style": "light"
          },
          "paper_bgcolor": "white",
          "plot_bgcolor": "#E5ECF6",
          "polar": {
           "angularaxis": {
            "gridcolor": "white",
            "linecolor": "white",
            "ticks": ""
           },
           "bgcolor": "#E5ECF6",
           "radialaxis": {
            "gridcolor": "white",
            "linecolor": "white",
            "ticks": ""
           }
          },
          "scene": {
           "xaxis": {
            "backgroundcolor": "#E5ECF6",
            "gridcolor": "white",
            "gridwidth": 2,
            "linecolor": "white",
            "showbackground": true,
            "ticks": "",
            "zerolinecolor": "white"
           },
           "yaxis": {
            "backgroundcolor": "#E5ECF6",
            "gridcolor": "white",
            "gridwidth": 2,
            "linecolor": "white",
            "showbackground": true,
            "ticks": "",
            "zerolinecolor": "white"
           },
           "zaxis": {
            "backgroundcolor": "#E5ECF6",
            "gridcolor": "white",
            "gridwidth": 2,
            "linecolor": "white",
            "showbackground": true,
            "ticks": "",
            "zerolinecolor": "white"
           }
          },
          "shapedefaults": {
           "line": {
            "color": "#2a3f5f"
           }
          },
          "ternary": {
           "aaxis": {
            "gridcolor": "white",
            "linecolor": "white",
            "ticks": ""
           },
           "baxis": {
            "gridcolor": "white",
            "linecolor": "white",
            "ticks": ""
           },
           "bgcolor": "#E5ECF6",
           "caxis": {
            "gridcolor": "white",
            "linecolor": "white",
            "ticks": ""
           }
          },
          "title": {
           "x": 0.05
          },
          "xaxis": {
           "automargin": true,
           "gridcolor": "white",
           "linecolor": "white",
           "ticks": "",
           "title": {
            "standoff": 15
           },
           "zerolinecolor": "white",
           "zerolinewidth": 2
          },
          "yaxis": {
           "automargin": true,
           "gridcolor": "white",
           "linecolor": "white",
           "ticks": "",
           "title": {
            "standoff": 15
           },
           "zerolinecolor": "white",
           "zerolinewidth": 2
          }
         }
        },
        "title": {
         "text": "Worldwide Corona Virus Cases - Confirmed, Deaths, Recovered (Line Chart)"
        },
        "xaxis": {
         "tickfont": {
          "size": 10
         }
        },
        "yaxis": {
         "tickfont": {
          "size": 10
         },
         "title": {
          "font": {
           "size": 12
          },
          "text": "Number of Cases"
         }
        }
       }
      },
      "text/html": [
       "<div>\n",
       "        \n",
       "        \n",
       "            <div id=\"56fb2ea8-9021-4849-9a4e-08638fc48909\" class=\"plotly-graph-div\" style=\"height:525px; width:100%;\"></div>\n",
       "            <script type=\"text/javascript\">\n",
       "                require([\"plotly\"], function(Plotly) {\n",
       "                    window.PLOTLYENV=window.PLOTLYENV || {};\n",
       "                    \n",
       "                if (document.getElementById(\"56fb2ea8-9021-4849-9a4e-08638fc48909\")) {\n",
       "                    Plotly.newPlot(\n",
       "                        '56fb2ea8-9021-4849-9a4e-08638fc48909',\n",
       "                        [{\"line\": {\"color\": \"blue\", \"width\": 1}, \"mode\": \"lines+markers\", \"name\": \"Confirmed\", \"type\": \"scatter\", \"x\": [\"1/22/2020\", \"1/23/2020\", \"1/24/2020\", \"1/25/2020\", \"1/26/2020\", \"1/27/2020\", \"1/28/2020\", \"1/29/2020\", \"1/30/2020\", \"1/31/2020\", \"2/1/2020\", \"2/10/2020\", \"2/11/2020\", \"2/12/2020\", \"2/13/2020\", \"2/14/2020\", \"2/15/2020\", \"2/16/2020\", \"2/17/2020\", \"2/18/2020\", \"2/19/2020\", \"2/2/2020\", \"2/20/2020\", \"2/21/2020\", \"2/22/2020\", \"2/23/2020\", \"2/24/2020\", \"2/25/2020\", \"2/26/2020\", \"2/27/2020\", \"2/28/2020\", \"2/29/2020\", \"2/3/2020\", \"2/4/2020\", \"2/5/2020\", \"2/6/2020\", \"2/7/2020\", \"2/8/2020\", \"2/9/2020\", \"3/1/2020\", \"3/10/2020\", \"3/11/2020\", \"3/12/2020\", \"3/13/2020\", \"3/14/2020\", \"3/15/2020\", \"3/16/2020\", \"3/17/2020\", \"3/18/2020\", \"3/19/2020\", \"3/2/2020\", \"3/20/2020\", \"3/21/2020\", \"3/22/2020\", \"3/23/2020\", \"3/24/2020\", \"3/25/2020\", \"3/26/2020\", \"3/27/2020\", \"3/28/2020\", \"3/29/2020\", \"3/3/2020\", \"3/30/2020\", \"3/31/2020\", \"3/4/2020\", \"3/5/2020\", \"3/6/2020\", \"3/7/2020\", \"3/8/2020\", \"3/9/2020\", \"4/1/2020\", \"4/10/2020\", \"4/11/2020\", \"4/12/2020\", \"4/13/2020\", \"4/14/2020\", \"4/15/2020\", \"4/16/2020\", \"4/17/2020\", \"4/18/2020\", \"4/19/2020\", \"4/2/2020\", \"4/20/2020\", \"4/21/2020\", \"4/22/2020\", \"4/23/2020\", \"4/24/2020\", \"4/25/2020\", \"4/26/2020\", \"4/27/2020\", \"4/28/2020\", \"4/29/2020\", \"4/3/2020\", \"4/30/2020\", \"4/4/2020\", \"4/5/2020\", \"4/6/2020\", \"4/7/2020\", \"4/8/2020\", \"4/9/2020\", \"5/1/2020\", \"5/10/2020\", \"5/11/2020\", \"5/12/2020\", \"5/13/2020\", \"5/14/2020\", \"5/15/2020\", \"5/16/2020\", \"5/17/2020\", \"5/18/2020\", \"5/19/2020\", \"5/2/2020\", \"5/20/2020\", \"5/21/2020\", \"5/22/2020\", \"5/23/2020\", \"5/24/2020\", \"5/3/2020\", \"5/4/2020\", \"5/5/2020\", \"5/6/2020\", \"5/7/2020\", \"5/8/2020\", \"5/9/2020\"], \"y\": [555, 653, 941, 1438, 2118, 2927, 5578, 6165, 8235, 9925, 12038, 42763, 44803, 45222, 60370, 66887, 69032, 71226, 73260, 75138, 75641, 16787, 76199, 76843, 78599, 78985, 79570, 80415, 81397, 82756, 84124, 86013, 19881, 23892, 27636, 30818, 34392, 37121, 40151, 88371, 118582, 125865, 128343, 145193, 156099, 167447, 181546, 197168, 214915, 242713, 90309, 272167, 304549, 337122, 378283, 417962, 467594, 529591, 593291, 660693, 720140, 92844, 782389, 857487, 95124, 97886, 101800, 105836, 109835, 113582, 932605, 1691719, 1771514, 1846680, 1917320, 1976192, 2056055, 2152647, 2240191, 2317759, 2401379, 1013303, 2472259, 2549123, 2623960, 2708885, 2810715, 2896746, 2971475, 3041764, 3116398, 3193886, 1095917, 3256846, 1197408, 1272115, 1345101, 1426096, 1511104, 1595350, 3343777, 4101699, 4177504, 4261955, 4347018, 4442163, 4542347, 4634068, 4713620, 4801943, 4897492, 3427343, 4996472, 5102424, 5210817, 5310362, 5407613, 3506729, 3583055, 3662691, 3755341, 3845718, 3938064, 4024009]}, {\"line\": {\"color\": \"Red\", \"width\": 1}, \"mode\": \"lines+markers\", \"name\": \"Deaths\", \"type\": \"scatter\", \"x\": [\"1/22/2020\", \"1/23/2020\", \"1/24/2020\", \"1/25/2020\", \"1/26/2020\", \"1/27/2020\", \"1/28/2020\", \"1/29/2020\", \"1/30/2020\", \"1/31/2020\", \"2/1/2020\", \"2/10/2020\", \"2/11/2020\", \"2/12/2020\", \"2/13/2020\", \"2/14/2020\", \"2/15/2020\", \"2/16/2020\", \"2/17/2020\", \"2/18/2020\", \"2/19/2020\", \"2/2/2020\", \"2/20/2020\", \"2/21/2020\", \"2/22/2020\", \"2/23/2020\", \"2/24/2020\", \"2/25/2020\", \"2/26/2020\", \"2/27/2020\", \"2/28/2020\", \"2/29/2020\", \"2/3/2020\", \"2/4/2020\", \"2/5/2020\", \"2/6/2020\", \"2/7/2020\", \"2/8/2020\", \"2/9/2020\", \"3/1/2020\", \"3/10/2020\", \"3/11/2020\", \"3/12/2020\", \"3/13/2020\", \"3/14/2020\", \"3/15/2020\", \"3/16/2020\", \"3/17/2020\", \"3/18/2020\", \"3/19/2020\", \"3/2/2020\", \"3/20/2020\", \"3/21/2020\", \"3/22/2020\", \"3/23/2020\", \"3/24/2020\", \"3/25/2020\", \"3/26/2020\", \"3/27/2020\", \"3/28/2020\", \"3/29/2020\", \"3/3/2020\", \"3/30/2020\", \"3/31/2020\", \"3/4/2020\", \"3/5/2020\", \"3/6/2020\", \"3/7/2020\", \"3/8/2020\", \"3/9/2020\", \"4/1/2020\", \"4/10/2020\", \"4/11/2020\", \"4/12/2020\", \"4/13/2020\", \"4/14/2020\", \"4/15/2020\", \"4/16/2020\", \"4/17/2020\", \"4/18/2020\", \"4/19/2020\", \"4/2/2020\", \"4/20/2020\", \"4/21/2020\", \"4/22/2020\", \"4/23/2020\", \"4/24/2020\", \"4/25/2020\", \"4/26/2020\", \"4/27/2020\", \"4/28/2020\", \"4/29/2020\", \"4/3/2020\", \"4/30/2020\", \"4/4/2020\", \"4/5/2020\", \"4/6/2020\", \"4/7/2020\", \"4/8/2020\", \"4/9/2020\", \"5/1/2020\", \"5/10/2020\", \"5/11/2020\", \"5/12/2020\", \"5/13/2020\", \"5/14/2020\", \"5/15/2020\", \"5/16/2020\", \"5/17/2020\", \"5/18/2020\", \"5/19/2020\", \"5/2/2020\", \"5/20/2020\", \"5/21/2020\", \"5/22/2020\", \"5/23/2020\", \"5/24/2020\", \"5/3/2020\", \"5/4/2020\", \"5/5/2020\", \"5/6/2020\", \"5/7/2020\", \"5/8/2020\", \"5/9/2020\"], \"y\": [17, 18, 26, 42, 56, 82, 131, 133, 171, 213, 259, 1013, 1113, 1118, 1371, 1523, 1666, 1770, 1868, 2007, 2122, 362, 2247, 2251, 2458, 2469, 2629, 2708, 2770, 2814, 2872, 2941, 426, 492, 564, 634, 719, 806, 906, 2996, 4262, 4615, 4720, 5404, 5819, 6440, 7126, 7905, 8733, 9867, 3085, 11299, 12973, 14623, 16497, 18615, 21181, 23970, 27198, 30652, 33925, 3160, 37582, 42107, 3254, 3348, 3460, 3558, 3803, 3996, 46809, 102525, 108502, 114089, 119482, 125984, 134177, 143801, 153822, 159510, 165044, 52983, 169986, 176583, 183066, 190858, 197151, 202846, 206544, 211167, 217153, 227638, 58787, 233388, 64606, 69374, 74565, 81865, 88338, 95455, 238650, 282709, 286330, 291964, 297197, 302418, 307666, 311781, 315185, 318481, 323285, 243808, 328115, 332924, 338160, 342097, 345059, 247470, 251537, 257239, 263831, 269567, 274898, 279311]}, {\"line\": {\"color\": \"Green\", \"width\": 1}, \"mode\": \"lines+markers\", \"name\": \"Recovered\", \"type\": \"scatter\", \"x\": [\"1/22/2020\", \"1/23/2020\", \"1/24/2020\", \"1/25/2020\", \"1/26/2020\", \"1/27/2020\", \"1/28/2020\", \"1/29/2020\", \"1/30/2020\", \"1/31/2020\", \"2/1/2020\", \"2/10/2020\", \"2/11/2020\", \"2/12/2020\", \"2/13/2020\", \"2/14/2020\", \"2/15/2020\", \"2/16/2020\", \"2/17/2020\", \"2/18/2020\", \"2/19/2020\", \"2/2/2020\", \"2/20/2020\", \"2/21/2020\", \"2/22/2020\", \"2/23/2020\", \"2/24/2020\", \"2/25/2020\", \"2/26/2020\", \"2/27/2020\", \"2/28/2020\", \"2/29/2020\", \"2/3/2020\", \"2/4/2020\", \"2/5/2020\", \"2/6/2020\", \"2/7/2020\", \"2/8/2020\", \"2/9/2020\", \"3/1/2020\", \"3/10/2020\", \"3/11/2020\", \"3/12/2020\", \"3/13/2020\", \"3/14/2020\", \"3/15/2020\", \"3/16/2020\", \"3/17/2020\", \"3/18/2020\", \"3/19/2020\", \"3/2/2020\", \"3/20/2020\", \"3/21/2020\", \"3/22/2020\", \"3/23/2020\", \"3/24/2020\", \"3/25/2020\", \"3/26/2020\", \"3/27/2020\", \"3/28/2020\", \"3/29/2020\", \"3/3/2020\", \"3/30/2020\", \"3/31/2020\", \"3/4/2020\", \"3/5/2020\", \"3/6/2020\", \"3/7/2020\", \"3/8/2020\", \"3/9/2020\", \"4/1/2020\", \"4/10/2020\", \"4/11/2020\", \"4/12/2020\", \"4/13/2020\", \"4/14/2020\", \"4/15/2020\", \"4/16/2020\", \"4/17/2020\", \"4/18/2020\", \"4/19/2020\", \"4/2/2020\", \"4/20/2020\", \"4/21/2020\", \"4/22/2020\", \"4/23/2020\", \"4/24/2020\", \"4/25/2020\", \"4/26/2020\", \"4/27/2020\", \"4/28/2020\", \"4/29/2020\", \"4/3/2020\", \"4/30/2020\", \"4/4/2020\", \"4/5/2020\", \"4/6/2020\", \"4/7/2020\", \"4/8/2020\", \"4/9/2020\", \"5/1/2020\", \"5/10/2020\", \"5/11/2020\", \"5/12/2020\", \"5/13/2020\", \"5/14/2020\", \"5/15/2020\", \"5/16/2020\", \"5/17/2020\", \"5/18/2020\", \"5/19/2020\", \"5/2/2020\", \"5/20/2020\", \"5/21/2020\", \"5/22/2020\", \"5/23/2020\", \"5/24/2020\", \"5/3/2020\", \"5/4/2020\", \"5/5/2020\", \"5/6/2020\", \"5/7/2020\", \"5/8/2020\", \"5/9/2020\"], \"y\": [28, 30, 36, 39, 52, 61, 107, 126, 143, 222, 284, 3946, 4683, 5150, 6295, 8058, 9395, 10865, 12583, 14352, 16121, 472, 18177, 18890, 22886, 23394, 25227, 27905, 30384, 33277, 36711, 39782, 623, 852, 1124, 1487, 2011, 2616, 3244, 42716, 64404, 67003, 68324, 70251, 72624, 76034, 78088, 80840, 83313, 84962, 45602, 87403, 91676, 97243, 100958, 107699, 113764, 122144, 130909, 139409, 149076, 48229, 164560, 178028, 51171, 53797, 55866, 58359, 60695, 62512, 193171, 376096, 402110, 421722, 448655, 474261, 511019, 542107, 568343, 592319, 623903, 210263, 645738, 679819, 709694, 738486, 793420, 816685, 865733, 893967, 928658, 972719, 225796, 1014753, 246152, 260012, 276515, 300054, 328661, 353975, 1053327, 1408980, 1456209, 1493414, 1548547, 1587893, 1637067, 1693197, 1733963, 1786875, 1838995, 1093112, 1897466, 1948739, 2056643, 2112185, 2168563, 1125236, 1162724, 1198832, 1245413, 1284741, 1322050, 1375624]}],\n",
       "                        {\"legend\": {\"bgcolor\": \"rgba(255, 255, 255, 0)\", \"bordercolor\": \"rgba(255, 255, 255, 0)\", \"x\": 0, \"y\": 1.0}, \"template\": {\"data\": {\"bar\": [{\"error_x\": {\"color\": \"#2a3f5f\"}, \"error_y\": {\"color\": \"#2a3f5f\"}, \"marker\": {\"line\": {\"color\": \"#E5ECF6\", \"width\": 0.5}}, \"type\": \"bar\"}], \"barpolar\": [{\"marker\": {\"line\": {\"color\": \"#E5ECF6\", \"width\": 0.5}}, \"type\": \"barpolar\"}], \"carpet\": [{\"aaxis\": {\"endlinecolor\": \"#2a3f5f\", \"gridcolor\": \"white\", \"linecolor\": \"white\", \"minorgridcolor\": \"white\", \"startlinecolor\": \"#2a3f5f\"}, \"baxis\": {\"endlinecolor\": \"#2a3f5f\", \"gridcolor\": \"white\", \"linecolor\": \"white\", \"minorgridcolor\": \"white\", \"startlinecolor\": \"#2a3f5f\"}, \"type\": \"carpet\"}], \"choropleth\": [{\"colorbar\": {\"outlinewidth\": 0, \"ticks\": \"\"}, \"type\": \"choropleth\"}], \"contour\": [{\"colorbar\": {\"outlinewidth\": 0, \"ticks\": \"\"}, \"colorscale\": [[0.0, \"#0d0887\"], [0.1111111111111111, \"#46039f\"], [0.2222222222222222, \"#7201a8\"], [0.3333333333333333, \"#9c179e\"], [0.4444444444444444, \"#bd3786\"], [0.5555555555555556, \"#d8576b\"], [0.6666666666666666, \"#ed7953\"], [0.7777777777777778, \"#fb9f3a\"], [0.8888888888888888, \"#fdca26\"], [1.0, \"#f0f921\"]], \"type\": \"contour\"}], \"contourcarpet\": [{\"colorbar\": {\"outlinewidth\": 0, \"ticks\": \"\"}, \"type\": \"contourcarpet\"}], \"heatmap\": [{\"colorbar\": {\"outlinewidth\": 0, \"ticks\": \"\"}, \"colorscale\": [[0.0, \"#0d0887\"], [0.1111111111111111, \"#46039f\"], [0.2222222222222222, \"#7201a8\"], [0.3333333333333333, \"#9c179e\"], [0.4444444444444444, \"#bd3786\"], [0.5555555555555556, \"#d8576b\"], [0.6666666666666666, \"#ed7953\"], [0.7777777777777778, \"#fb9f3a\"], [0.8888888888888888, \"#fdca26\"], [1.0, \"#f0f921\"]], \"type\": \"heatmap\"}], \"heatmapgl\": [{\"colorbar\": {\"outlinewidth\": 0, \"ticks\": \"\"}, \"colorscale\": [[0.0, \"#0d0887\"], [0.1111111111111111, \"#46039f\"], [0.2222222222222222, \"#7201a8\"], [0.3333333333333333, \"#9c179e\"], [0.4444444444444444, \"#bd3786\"], [0.5555555555555556, \"#d8576b\"], [0.6666666666666666, \"#ed7953\"], [0.7777777777777778, \"#fb9f3a\"], [0.8888888888888888, \"#fdca26\"], [1.0, \"#f0f921\"]], \"type\": \"heatmapgl\"}], \"histogram\": [{\"marker\": {\"colorbar\": {\"outlinewidth\": 0, \"ticks\": \"\"}}, \"type\": \"histogram\"}], \"histogram2d\": [{\"colorbar\": {\"outlinewidth\": 0, \"ticks\": \"\"}, \"colorscale\": [[0.0, \"#0d0887\"], [0.1111111111111111, \"#46039f\"], [0.2222222222222222, \"#7201a8\"], [0.3333333333333333, \"#9c179e\"], [0.4444444444444444, \"#bd3786\"], [0.5555555555555556, \"#d8576b\"], [0.6666666666666666, \"#ed7953\"], [0.7777777777777778, \"#fb9f3a\"], [0.8888888888888888, \"#fdca26\"], [1.0, \"#f0f921\"]], \"type\": \"histogram2d\"}], \"histogram2dcontour\": [{\"colorbar\": {\"outlinewidth\": 0, \"ticks\": \"\"}, \"colorscale\": [[0.0, \"#0d0887\"], [0.1111111111111111, \"#46039f\"], [0.2222222222222222, \"#7201a8\"], [0.3333333333333333, \"#9c179e\"], [0.4444444444444444, \"#bd3786\"], [0.5555555555555556, \"#d8576b\"], [0.6666666666666666, \"#ed7953\"], [0.7777777777777778, \"#fb9f3a\"], [0.8888888888888888, \"#fdca26\"], [1.0, \"#f0f921\"]], \"type\": \"histogram2dcontour\"}], \"mesh3d\": [{\"colorbar\": {\"outlinewidth\": 0, \"ticks\": \"\"}, \"type\": \"mesh3d\"}], \"parcoords\": [{\"line\": {\"colorbar\": {\"outlinewidth\": 0, \"ticks\": \"\"}}, \"type\": \"parcoords\"}], \"pie\": [{\"automargin\": true, \"type\": \"pie\"}], \"scatter\": [{\"marker\": {\"colorbar\": {\"outlinewidth\": 0, \"ticks\": \"\"}}, \"type\": \"scatter\"}], \"scatter3d\": [{\"line\": {\"colorbar\": {\"outlinewidth\": 0, \"ticks\": \"\"}}, \"marker\": {\"colorbar\": {\"outlinewidth\": 0, \"ticks\": \"\"}}, \"type\": \"scatter3d\"}], \"scattercarpet\": [{\"marker\": {\"colorbar\": {\"outlinewidth\": 0, \"ticks\": \"\"}}, \"type\": \"scattercarpet\"}], \"scattergeo\": [{\"marker\": {\"colorbar\": {\"outlinewidth\": 0, \"ticks\": \"\"}}, \"type\": \"scattergeo\"}], \"scattergl\": [{\"marker\": {\"colorbar\": {\"outlinewidth\": 0, \"ticks\": \"\"}}, \"type\": \"scattergl\"}], \"scattermapbox\": [{\"marker\": {\"colorbar\": {\"outlinewidth\": 0, \"ticks\": \"\"}}, \"type\": \"scattermapbox\"}], \"scatterpolar\": [{\"marker\": {\"colorbar\": {\"outlinewidth\": 0, \"ticks\": \"\"}}, \"type\": \"scatterpolar\"}], \"scatterpolargl\": [{\"marker\": {\"colorbar\": {\"outlinewidth\": 0, \"ticks\": \"\"}}, \"type\": \"scatterpolargl\"}], \"scatterternary\": [{\"marker\": {\"colorbar\": {\"outlinewidth\": 0, \"ticks\": \"\"}}, \"type\": \"scatterternary\"}], \"surface\": [{\"colorbar\": {\"outlinewidth\": 0, \"ticks\": \"\"}, \"colorscale\": [[0.0, \"#0d0887\"], [0.1111111111111111, \"#46039f\"], [0.2222222222222222, \"#7201a8\"], [0.3333333333333333, \"#9c179e\"], [0.4444444444444444, \"#bd3786\"], [0.5555555555555556, \"#d8576b\"], [0.6666666666666666, \"#ed7953\"], [0.7777777777777778, \"#fb9f3a\"], [0.8888888888888888, \"#fdca26\"], [1.0, \"#f0f921\"]], \"type\": \"surface\"}], \"table\": [{\"cells\": {\"fill\": {\"color\": \"#EBF0F8\"}, \"line\": {\"color\": \"white\"}}, \"header\": {\"fill\": {\"color\": \"#C8D4E3\"}, \"line\": {\"color\": \"white\"}}, \"type\": \"table\"}]}, \"layout\": {\"annotationdefaults\": {\"arrowcolor\": \"#2a3f5f\", \"arrowhead\": 0, \"arrowwidth\": 1}, \"coloraxis\": {\"colorbar\": {\"outlinewidth\": 0, \"ticks\": \"\"}}, \"colorscale\": {\"diverging\": [[0, \"#8e0152\"], [0.1, \"#c51b7d\"], [0.2, \"#de77ae\"], [0.3, \"#f1b6da\"], [0.4, \"#fde0ef\"], [0.5, \"#f7f7f7\"], [0.6, \"#e6f5d0\"], [0.7, \"#b8e186\"], [0.8, \"#7fbc41\"], [0.9, \"#4d9221\"], [1, \"#276419\"]], \"sequential\": [[0.0, \"#0d0887\"], [0.1111111111111111, \"#46039f\"], [0.2222222222222222, \"#7201a8\"], [0.3333333333333333, \"#9c179e\"], [0.4444444444444444, \"#bd3786\"], [0.5555555555555556, \"#d8576b\"], [0.6666666666666666, \"#ed7953\"], [0.7777777777777778, \"#fb9f3a\"], [0.8888888888888888, \"#fdca26\"], [1.0, \"#f0f921\"]], \"sequentialminus\": [[0.0, \"#0d0887\"], [0.1111111111111111, \"#46039f\"], [0.2222222222222222, \"#7201a8\"], [0.3333333333333333, \"#9c179e\"], [0.4444444444444444, \"#bd3786\"], [0.5555555555555556, \"#d8576b\"], [0.6666666666666666, \"#ed7953\"], [0.7777777777777778, \"#fb9f3a\"], [0.8888888888888888, \"#fdca26\"], [1.0, \"#f0f921\"]]}, \"colorway\": [\"#636efa\", \"#EF553B\", \"#00cc96\", \"#ab63fa\", \"#FFA15A\", \"#19d3f3\", \"#FF6692\", \"#B6E880\", \"#FF97FF\", \"#FECB52\"], \"font\": {\"color\": \"#2a3f5f\"}, \"geo\": {\"bgcolor\": \"white\", \"lakecolor\": \"white\", \"landcolor\": \"#E5ECF6\", \"showlakes\": true, \"showland\": true, \"subunitcolor\": \"white\"}, \"hoverlabel\": {\"align\": \"left\"}, \"hovermode\": \"closest\", \"mapbox\": {\"style\": \"light\"}, \"paper_bgcolor\": \"white\", \"plot_bgcolor\": \"#E5ECF6\", \"polar\": {\"angularaxis\": {\"gridcolor\": \"white\", \"linecolor\": \"white\", \"ticks\": \"\"}, \"bgcolor\": \"#E5ECF6\", \"radialaxis\": {\"gridcolor\": \"white\", \"linecolor\": \"white\", \"ticks\": \"\"}}, \"scene\": {\"xaxis\": {\"backgroundcolor\": \"#E5ECF6\", \"gridcolor\": \"white\", \"gridwidth\": 2, \"linecolor\": \"white\", \"showbackground\": true, \"ticks\": \"\", \"zerolinecolor\": \"white\"}, \"yaxis\": {\"backgroundcolor\": \"#E5ECF6\", \"gridcolor\": \"white\", \"gridwidth\": 2, \"linecolor\": \"white\", \"showbackground\": true, \"ticks\": \"\", \"zerolinecolor\": \"white\"}, \"zaxis\": {\"backgroundcolor\": \"#E5ECF6\", \"gridcolor\": \"white\", \"gridwidth\": 2, \"linecolor\": \"white\", \"showbackground\": true, \"ticks\": \"\", \"zerolinecolor\": \"white\"}}, \"shapedefaults\": {\"line\": {\"color\": \"#2a3f5f\"}}, \"ternary\": {\"aaxis\": {\"gridcolor\": \"white\", \"linecolor\": \"white\", \"ticks\": \"\"}, \"baxis\": {\"gridcolor\": \"white\", \"linecolor\": \"white\", \"ticks\": \"\"}, \"bgcolor\": \"#E5ECF6\", \"caxis\": {\"gridcolor\": \"white\", \"linecolor\": \"white\", \"ticks\": \"\"}}, \"title\": {\"x\": 0.05}, \"xaxis\": {\"automargin\": true, \"gridcolor\": \"white\", \"linecolor\": \"white\", \"ticks\": \"\", \"title\": {\"standoff\": 15}, \"zerolinecolor\": \"white\", \"zerolinewidth\": 2}, \"yaxis\": {\"automargin\": true, \"gridcolor\": \"white\", \"linecolor\": \"white\", \"ticks\": \"\", \"title\": {\"standoff\": 15}, \"zerolinecolor\": \"white\", \"zerolinewidth\": 2}}}, \"title\": {\"text\": \"Worldwide Corona Virus Cases - Confirmed, Deaths, Recovered (Line Chart)\"}, \"xaxis\": {\"tickfont\": {\"size\": 10}}, \"yaxis\": {\"tickfont\": {\"size\": 10}, \"title\": {\"font\": {\"size\": 12}, \"text\": \"Number of Cases\"}}},\n",
       "                        {\"responsive\": true}\n",
       "                    ).then(function(){\n",
       "                            \n",
       "var gd = document.getElementById('56fb2ea8-9021-4849-9a4e-08638fc48909');\n",
       "var x = new MutationObserver(function (mutations, observer) {{\n",
       "        var display = window.getComputedStyle(gd).display;\n",
       "        if (!display || display === 'none') {{\n",
       "            console.log([gd, 'removed!']);\n",
       "            Plotly.purge(gd);\n",
       "            observer.disconnect();\n",
       "        }}\n",
       "}});\n",
       "\n",
       "// Listen for the removal of the full notebook cells\n",
       "var notebookContainer = gd.closest('#notebook-container');\n",
       "if (notebookContainer) {{\n",
       "    x.observe(notebookContainer, {childList: true});\n",
       "}}\n",
       "\n",
       "// Listen for the clearing of the current output cell\n",
       "var outputEl = gd.closest('.output');\n",
       "if (outputEl) {{\n",
       "    x.observe(outputEl, {childList: true});\n",
       "}}\n",
       "\n",
       "                        })\n",
       "                };\n",
       "                });\n",
       "            </script>\n",
       "        </div>"
      ]
     },
     "metadata": {},
     "output_type": "display_data"
    }
   ],
   "source": [
    "fig = go.Figure()\n",
    "fig.add_trace(go.Scatter(x=confirmed['Date'], \n",
    "                         y=confirmed['Confirmed'],\n",
    "                         mode='lines+markers',\n",
    "                         name='Confirmed',\n",
    "                         line=dict(color='blue', width=1)\n",
    "                        ))\n",
    "fig.add_trace(go.Scatter(x=deaths['Date'], \n",
    "                         y=deaths['Deaths'],\n",
    "                         mode='lines+markers',\n",
    "                         name='Deaths',\n",
    "                         line=dict(color='Red', width=1)\n",
    "                        ))\n",
    "fig.add_trace(go.Scatter(x=recovered['Date'], \n",
    "                         y=recovered['Recovered'],\n",
    "                         mode='lines+markers',\n",
    "                         name='Recovered',\n",
    "                         line=dict(color='Green', width=1)\n",
    "                        ))\n",
    "fig.update_layout(\n",
    "    title='Worldwide Corona Virus Cases - Confirmed, Deaths, Recovered (Line Chart)',\n",
    "    xaxis_tickfont_size=10,\n",
    "    yaxis=dict(\n",
    "        title='Number of Cases',\n",
    "        titlefont_size=12,\n",
    "        tickfont_size=10,\n",
    "    ),\n",
    "    legend=dict(\n",
    "        x=0,\n",
    "        y=1.0,\n",
    "        bgcolor='rgba(255, 255, 255, 0)',\n",
    "        bordercolor='rgba(255, 255, 255, 0)'\n",
    "    )\n",
    ")\n",
    "fig.show()"
   ]
  },
  {
   "cell_type": "code",
   "execution_count": 30,
   "metadata": {},
   "outputs": [
    {
     "data": {
      "application/vnd.plotly.v1+json": {
       "config": {
        "plotlyServerURL": "https://plot.ly"
       },
       "data": [
        {
         "marker": {
          "color": "blue"
         },
         "name": "Confirmed",
         "type": "bar",
         "x": [
          "1/22/2020",
          "1/23/2020",
          "1/24/2020",
          "1/25/2020",
          "1/26/2020",
          "1/27/2020",
          "1/28/2020",
          "1/29/2020",
          "1/30/2020",
          "1/31/2020",
          "2/1/2020",
          "2/10/2020",
          "2/11/2020",
          "2/12/2020",
          "2/13/2020",
          "2/14/2020",
          "2/15/2020",
          "2/16/2020",
          "2/17/2020",
          "2/18/2020",
          "2/19/2020",
          "2/2/2020",
          "2/20/2020",
          "2/21/2020",
          "2/22/2020",
          "2/23/2020",
          "2/24/2020",
          "2/25/2020",
          "2/26/2020",
          "2/27/2020",
          "2/28/2020",
          "2/29/2020",
          "2/3/2020",
          "2/4/2020",
          "2/5/2020",
          "2/6/2020",
          "2/7/2020",
          "2/8/2020",
          "2/9/2020",
          "3/1/2020",
          "3/10/2020",
          "3/11/2020",
          "3/12/2020",
          "3/13/2020",
          "3/14/2020",
          "3/15/2020",
          "3/16/2020",
          "3/17/2020",
          "3/18/2020",
          "3/19/2020",
          "3/2/2020",
          "3/20/2020",
          "3/21/2020",
          "3/22/2020",
          "3/23/2020",
          "3/24/2020",
          "3/25/2020",
          "3/26/2020",
          "3/27/2020",
          "3/28/2020",
          "3/29/2020",
          "3/3/2020",
          "3/30/2020",
          "3/31/2020",
          "3/4/2020",
          "3/5/2020",
          "3/6/2020",
          "3/7/2020",
          "3/8/2020",
          "3/9/2020",
          "4/1/2020",
          "4/10/2020",
          "4/11/2020",
          "4/12/2020",
          "4/13/2020",
          "4/14/2020",
          "4/15/2020",
          "4/16/2020",
          "4/17/2020",
          "4/18/2020",
          "4/19/2020",
          "4/2/2020",
          "4/20/2020",
          "4/21/2020",
          "4/22/2020",
          "4/23/2020",
          "4/24/2020",
          "4/25/2020",
          "4/26/2020",
          "4/27/2020",
          "4/28/2020",
          "4/29/2020",
          "4/3/2020",
          "4/30/2020",
          "4/4/2020",
          "4/5/2020",
          "4/6/2020",
          "4/7/2020",
          "4/8/2020",
          "4/9/2020",
          "5/1/2020",
          "5/10/2020",
          "5/11/2020",
          "5/12/2020",
          "5/13/2020",
          "5/14/2020",
          "5/15/2020",
          "5/16/2020",
          "5/17/2020",
          "5/18/2020",
          "5/19/2020",
          "5/2/2020",
          "5/20/2020",
          "5/21/2020",
          "5/22/2020",
          "5/23/2020",
          "5/24/2020",
          "5/3/2020",
          "5/4/2020",
          "5/5/2020",
          "5/6/2020",
          "5/7/2020",
          "5/8/2020",
          "5/9/2020"
         ],
         "y": [
          555,
          653,
          941,
          1438,
          2118,
          2927,
          5578,
          6165,
          8235,
          9925,
          12038,
          42763,
          44803,
          45222,
          60370,
          66887,
          69032,
          71226,
          73260,
          75138,
          75641,
          16787,
          76199,
          76843,
          78599,
          78985,
          79570,
          80415,
          81397,
          82756,
          84124,
          86013,
          19881,
          23892,
          27636,
          30818,
          34392,
          37121,
          40151,
          88371,
          118582,
          125865,
          128343,
          145193,
          156099,
          167447,
          181546,
          197168,
          214915,
          242713,
          90309,
          272167,
          304549,
          337122,
          378283,
          417962,
          467594,
          529591,
          593291,
          660693,
          720140,
          92844,
          782389,
          857487,
          95124,
          97886,
          101800,
          105836,
          109835,
          113582,
          932605,
          1691719,
          1771514,
          1846680,
          1917320,
          1976192,
          2056055,
          2152647,
          2240191,
          2317759,
          2401379,
          1013303,
          2472259,
          2549123,
          2623960,
          2708885,
          2810715,
          2896746,
          2971475,
          3041764,
          3116398,
          3193886,
          1095917,
          3256846,
          1197408,
          1272115,
          1345101,
          1426096,
          1511104,
          1595350,
          3343777,
          4101699,
          4177504,
          4261955,
          4347018,
          4442163,
          4542347,
          4634068,
          4713620,
          4801943,
          4897492,
          3427343,
          4996472,
          5102424,
          5210817,
          5310362,
          5407613,
          3506729,
          3583055,
          3662691,
          3755341,
          3845718,
          3938064,
          4024009
         ]
        },
        {
         "marker": {
          "color": "Red"
         },
         "name": "Deaths",
         "type": "bar",
         "x": [
          "1/22/2020",
          "1/23/2020",
          "1/24/2020",
          "1/25/2020",
          "1/26/2020",
          "1/27/2020",
          "1/28/2020",
          "1/29/2020",
          "1/30/2020",
          "1/31/2020",
          "2/1/2020",
          "2/10/2020",
          "2/11/2020",
          "2/12/2020",
          "2/13/2020",
          "2/14/2020",
          "2/15/2020",
          "2/16/2020",
          "2/17/2020",
          "2/18/2020",
          "2/19/2020",
          "2/2/2020",
          "2/20/2020",
          "2/21/2020",
          "2/22/2020",
          "2/23/2020",
          "2/24/2020",
          "2/25/2020",
          "2/26/2020",
          "2/27/2020",
          "2/28/2020",
          "2/29/2020",
          "2/3/2020",
          "2/4/2020",
          "2/5/2020",
          "2/6/2020",
          "2/7/2020",
          "2/8/2020",
          "2/9/2020",
          "3/1/2020",
          "3/10/2020",
          "3/11/2020",
          "3/12/2020",
          "3/13/2020",
          "3/14/2020",
          "3/15/2020",
          "3/16/2020",
          "3/17/2020",
          "3/18/2020",
          "3/19/2020",
          "3/2/2020",
          "3/20/2020",
          "3/21/2020",
          "3/22/2020",
          "3/23/2020",
          "3/24/2020",
          "3/25/2020",
          "3/26/2020",
          "3/27/2020",
          "3/28/2020",
          "3/29/2020",
          "3/3/2020",
          "3/30/2020",
          "3/31/2020",
          "3/4/2020",
          "3/5/2020",
          "3/6/2020",
          "3/7/2020",
          "3/8/2020",
          "3/9/2020",
          "4/1/2020",
          "4/10/2020",
          "4/11/2020",
          "4/12/2020",
          "4/13/2020",
          "4/14/2020",
          "4/15/2020",
          "4/16/2020",
          "4/17/2020",
          "4/18/2020",
          "4/19/2020",
          "4/2/2020",
          "4/20/2020",
          "4/21/2020",
          "4/22/2020",
          "4/23/2020",
          "4/24/2020",
          "4/25/2020",
          "4/26/2020",
          "4/27/2020",
          "4/28/2020",
          "4/29/2020",
          "4/3/2020",
          "4/30/2020",
          "4/4/2020",
          "4/5/2020",
          "4/6/2020",
          "4/7/2020",
          "4/8/2020",
          "4/9/2020",
          "5/1/2020",
          "5/10/2020",
          "5/11/2020",
          "5/12/2020",
          "5/13/2020",
          "5/14/2020",
          "5/15/2020",
          "5/16/2020",
          "5/17/2020",
          "5/18/2020",
          "5/19/2020",
          "5/2/2020",
          "5/20/2020",
          "5/21/2020",
          "5/22/2020",
          "5/23/2020",
          "5/24/2020",
          "5/3/2020",
          "5/4/2020",
          "5/5/2020",
          "5/6/2020",
          "5/7/2020",
          "5/8/2020",
          "5/9/2020"
         ],
         "y": [
          17,
          18,
          26,
          42,
          56,
          82,
          131,
          133,
          171,
          213,
          259,
          1013,
          1113,
          1118,
          1371,
          1523,
          1666,
          1770,
          1868,
          2007,
          2122,
          362,
          2247,
          2251,
          2458,
          2469,
          2629,
          2708,
          2770,
          2814,
          2872,
          2941,
          426,
          492,
          564,
          634,
          719,
          806,
          906,
          2996,
          4262,
          4615,
          4720,
          5404,
          5819,
          6440,
          7126,
          7905,
          8733,
          9867,
          3085,
          11299,
          12973,
          14623,
          16497,
          18615,
          21181,
          23970,
          27198,
          30652,
          33925,
          3160,
          37582,
          42107,
          3254,
          3348,
          3460,
          3558,
          3803,
          3996,
          46809,
          102525,
          108502,
          114089,
          119482,
          125984,
          134177,
          143801,
          153822,
          159510,
          165044,
          52983,
          169986,
          176583,
          183066,
          190858,
          197151,
          202846,
          206544,
          211167,
          217153,
          227638,
          58787,
          233388,
          64606,
          69374,
          74565,
          81865,
          88338,
          95455,
          238650,
          282709,
          286330,
          291964,
          297197,
          302418,
          307666,
          311781,
          315185,
          318481,
          323285,
          243808,
          328115,
          332924,
          338160,
          342097,
          345059,
          247470,
          251537,
          257239,
          263831,
          269567,
          274898,
          279311
         ]
        },
        {
         "marker": {
          "color": "Green"
         },
         "name": "Recovered",
         "type": "bar",
         "x": [
          "1/22/2020",
          "1/23/2020",
          "1/24/2020",
          "1/25/2020",
          "1/26/2020",
          "1/27/2020",
          "1/28/2020",
          "1/29/2020",
          "1/30/2020",
          "1/31/2020",
          "2/1/2020",
          "2/10/2020",
          "2/11/2020",
          "2/12/2020",
          "2/13/2020",
          "2/14/2020",
          "2/15/2020",
          "2/16/2020",
          "2/17/2020",
          "2/18/2020",
          "2/19/2020",
          "2/2/2020",
          "2/20/2020",
          "2/21/2020",
          "2/22/2020",
          "2/23/2020",
          "2/24/2020",
          "2/25/2020",
          "2/26/2020",
          "2/27/2020",
          "2/28/2020",
          "2/29/2020",
          "2/3/2020",
          "2/4/2020",
          "2/5/2020",
          "2/6/2020",
          "2/7/2020",
          "2/8/2020",
          "2/9/2020",
          "3/1/2020",
          "3/10/2020",
          "3/11/2020",
          "3/12/2020",
          "3/13/2020",
          "3/14/2020",
          "3/15/2020",
          "3/16/2020",
          "3/17/2020",
          "3/18/2020",
          "3/19/2020",
          "3/2/2020",
          "3/20/2020",
          "3/21/2020",
          "3/22/2020",
          "3/23/2020",
          "3/24/2020",
          "3/25/2020",
          "3/26/2020",
          "3/27/2020",
          "3/28/2020",
          "3/29/2020",
          "3/3/2020",
          "3/30/2020",
          "3/31/2020",
          "3/4/2020",
          "3/5/2020",
          "3/6/2020",
          "3/7/2020",
          "3/8/2020",
          "3/9/2020",
          "4/1/2020",
          "4/10/2020",
          "4/11/2020",
          "4/12/2020",
          "4/13/2020",
          "4/14/2020",
          "4/15/2020",
          "4/16/2020",
          "4/17/2020",
          "4/18/2020",
          "4/19/2020",
          "4/2/2020",
          "4/20/2020",
          "4/21/2020",
          "4/22/2020",
          "4/23/2020",
          "4/24/2020",
          "4/25/2020",
          "4/26/2020",
          "4/27/2020",
          "4/28/2020",
          "4/29/2020",
          "4/3/2020",
          "4/30/2020",
          "4/4/2020",
          "4/5/2020",
          "4/6/2020",
          "4/7/2020",
          "4/8/2020",
          "4/9/2020",
          "5/1/2020",
          "5/10/2020",
          "5/11/2020",
          "5/12/2020",
          "5/13/2020",
          "5/14/2020",
          "5/15/2020",
          "5/16/2020",
          "5/17/2020",
          "5/18/2020",
          "5/19/2020",
          "5/2/2020",
          "5/20/2020",
          "5/21/2020",
          "5/22/2020",
          "5/23/2020",
          "5/24/2020",
          "5/3/2020",
          "5/4/2020",
          "5/5/2020",
          "5/6/2020",
          "5/7/2020",
          "5/8/2020",
          "5/9/2020"
         ],
         "y": [
          28,
          30,
          36,
          39,
          52,
          61,
          107,
          126,
          143,
          222,
          284,
          3946,
          4683,
          5150,
          6295,
          8058,
          9395,
          10865,
          12583,
          14352,
          16121,
          472,
          18177,
          18890,
          22886,
          23394,
          25227,
          27905,
          30384,
          33277,
          36711,
          39782,
          623,
          852,
          1124,
          1487,
          2011,
          2616,
          3244,
          42716,
          64404,
          67003,
          68324,
          70251,
          72624,
          76034,
          78088,
          80840,
          83313,
          84962,
          45602,
          87403,
          91676,
          97243,
          100958,
          107699,
          113764,
          122144,
          130909,
          139409,
          149076,
          48229,
          164560,
          178028,
          51171,
          53797,
          55866,
          58359,
          60695,
          62512,
          193171,
          376096,
          402110,
          421722,
          448655,
          474261,
          511019,
          542107,
          568343,
          592319,
          623903,
          210263,
          645738,
          679819,
          709694,
          738486,
          793420,
          816685,
          865733,
          893967,
          928658,
          972719,
          225796,
          1014753,
          246152,
          260012,
          276515,
          300054,
          328661,
          353975,
          1053327,
          1408980,
          1456209,
          1493414,
          1548547,
          1587893,
          1637067,
          1693197,
          1733963,
          1786875,
          1838995,
          1093112,
          1897466,
          1948739,
          2056643,
          2112185,
          2168563,
          1125236,
          1162724,
          1198832,
          1245413,
          1284741,
          1322050,
          1375624
         ]
        }
       ],
       "layout": {
        "bargap": 0.15,
        "bargroupgap": 0.1,
        "barmode": "group",
        "legend": {
         "bgcolor": "rgba(255, 255, 255, 0)",
         "bordercolor": "rgba(255, 255, 255, 0)",
         "x": 0,
         "y": 1
        },
        "template": {
         "data": {
          "bar": [
           {
            "error_x": {
             "color": "#2a3f5f"
            },
            "error_y": {
             "color": "#2a3f5f"
            },
            "marker": {
             "line": {
              "color": "#E5ECF6",
              "width": 0.5
             }
            },
            "type": "bar"
           }
          ],
          "barpolar": [
           {
            "marker": {
             "line": {
              "color": "#E5ECF6",
              "width": 0.5
             }
            },
            "type": "barpolar"
           }
          ],
          "carpet": [
           {
            "aaxis": {
             "endlinecolor": "#2a3f5f",
             "gridcolor": "white",
             "linecolor": "white",
             "minorgridcolor": "white",
             "startlinecolor": "#2a3f5f"
            },
            "baxis": {
             "endlinecolor": "#2a3f5f",
             "gridcolor": "white",
             "linecolor": "white",
             "minorgridcolor": "white",
             "startlinecolor": "#2a3f5f"
            },
            "type": "carpet"
           }
          ],
          "choropleth": [
           {
            "colorbar": {
             "outlinewidth": 0,
             "ticks": ""
            },
            "type": "choropleth"
           }
          ],
          "contour": [
           {
            "colorbar": {
             "outlinewidth": 0,
             "ticks": ""
            },
            "colorscale": [
             [
              0,
              "#0d0887"
             ],
             [
              0.1111111111111111,
              "#46039f"
             ],
             [
              0.2222222222222222,
              "#7201a8"
             ],
             [
              0.3333333333333333,
              "#9c179e"
             ],
             [
              0.4444444444444444,
              "#bd3786"
             ],
             [
              0.5555555555555556,
              "#d8576b"
             ],
             [
              0.6666666666666666,
              "#ed7953"
             ],
             [
              0.7777777777777778,
              "#fb9f3a"
             ],
             [
              0.8888888888888888,
              "#fdca26"
             ],
             [
              1,
              "#f0f921"
             ]
            ],
            "type": "contour"
           }
          ],
          "contourcarpet": [
           {
            "colorbar": {
             "outlinewidth": 0,
             "ticks": ""
            },
            "type": "contourcarpet"
           }
          ],
          "heatmap": [
           {
            "colorbar": {
             "outlinewidth": 0,
             "ticks": ""
            },
            "colorscale": [
             [
              0,
              "#0d0887"
             ],
             [
              0.1111111111111111,
              "#46039f"
             ],
             [
              0.2222222222222222,
              "#7201a8"
             ],
             [
              0.3333333333333333,
              "#9c179e"
             ],
             [
              0.4444444444444444,
              "#bd3786"
             ],
             [
              0.5555555555555556,
              "#d8576b"
             ],
             [
              0.6666666666666666,
              "#ed7953"
             ],
             [
              0.7777777777777778,
              "#fb9f3a"
             ],
             [
              0.8888888888888888,
              "#fdca26"
             ],
             [
              1,
              "#f0f921"
             ]
            ],
            "type": "heatmap"
           }
          ],
          "heatmapgl": [
           {
            "colorbar": {
             "outlinewidth": 0,
             "ticks": ""
            },
            "colorscale": [
             [
              0,
              "#0d0887"
             ],
             [
              0.1111111111111111,
              "#46039f"
             ],
             [
              0.2222222222222222,
              "#7201a8"
             ],
             [
              0.3333333333333333,
              "#9c179e"
             ],
             [
              0.4444444444444444,
              "#bd3786"
             ],
             [
              0.5555555555555556,
              "#d8576b"
             ],
             [
              0.6666666666666666,
              "#ed7953"
             ],
             [
              0.7777777777777778,
              "#fb9f3a"
             ],
             [
              0.8888888888888888,
              "#fdca26"
             ],
             [
              1,
              "#f0f921"
             ]
            ],
            "type": "heatmapgl"
           }
          ],
          "histogram": [
           {
            "marker": {
             "colorbar": {
              "outlinewidth": 0,
              "ticks": ""
             }
            },
            "type": "histogram"
           }
          ],
          "histogram2d": [
           {
            "colorbar": {
             "outlinewidth": 0,
             "ticks": ""
            },
            "colorscale": [
             [
              0,
              "#0d0887"
             ],
             [
              0.1111111111111111,
              "#46039f"
             ],
             [
              0.2222222222222222,
              "#7201a8"
             ],
             [
              0.3333333333333333,
              "#9c179e"
             ],
             [
              0.4444444444444444,
              "#bd3786"
             ],
             [
              0.5555555555555556,
              "#d8576b"
             ],
             [
              0.6666666666666666,
              "#ed7953"
             ],
             [
              0.7777777777777778,
              "#fb9f3a"
             ],
             [
              0.8888888888888888,
              "#fdca26"
             ],
             [
              1,
              "#f0f921"
             ]
            ],
            "type": "histogram2d"
           }
          ],
          "histogram2dcontour": [
           {
            "colorbar": {
             "outlinewidth": 0,
             "ticks": ""
            },
            "colorscale": [
             [
              0,
              "#0d0887"
             ],
             [
              0.1111111111111111,
              "#46039f"
             ],
             [
              0.2222222222222222,
              "#7201a8"
             ],
             [
              0.3333333333333333,
              "#9c179e"
             ],
             [
              0.4444444444444444,
              "#bd3786"
             ],
             [
              0.5555555555555556,
              "#d8576b"
             ],
             [
              0.6666666666666666,
              "#ed7953"
             ],
             [
              0.7777777777777778,
              "#fb9f3a"
             ],
             [
              0.8888888888888888,
              "#fdca26"
             ],
             [
              1,
              "#f0f921"
             ]
            ],
            "type": "histogram2dcontour"
           }
          ],
          "mesh3d": [
           {
            "colorbar": {
             "outlinewidth": 0,
             "ticks": ""
            },
            "type": "mesh3d"
           }
          ],
          "parcoords": [
           {
            "line": {
             "colorbar": {
              "outlinewidth": 0,
              "ticks": ""
             }
            },
            "type": "parcoords"
           }
          ],
          "pie": [
           {
            "automargin": true,
            "type": "pie"
           }
          ],
          "scatter": [
           {
            "marker": {
             "colorbar": {
              "outlinewidth": 0,
              "ticks": ""
             }
            },
            "type": "scatter"
           }
          ],
          "scatter3d": [
           {
            "line": {
             "colorbar": {
              "outlinewidth": 0,
              "ticks": ""
             }
            },
            "marker": {
             "colorbar": {
              "outlinewidth": 0,
              "ticks": ""
             }
            },
            "type": "scatter3d"
           }
          ],
          "scattercarpet": [
           {
            "marker": {
             "colorbar": {
              "outlinewidth": 0,
              "ticks": ""
             }
            },
            "type": "scattercarpet"
           }
          ],
          "scattergeo": [
           {
            "marker": {
             "colorbar": {
              "outlinewidth": 0,
              "ticks": ""
             }
            },
            "type": "scattergeo"
           }
          ],
          "scattergl": [
           {
            "marker": {
             "colorbar": {
              "outlinewidth": 0,
              "ticks": ""
             }
            },
            "type": "scattergl"
           }
          ],
          "scattermapbox": [
           {
            "marker": {
             "colorbar": {
              "outlinewidth": 0,
              "ticks": ""
             }
            },
            "type": "scattermapbox"
           }
          ],
          "scatterpolar": [
           {
            "marker": {
             "colorbar": {
              "outlinewidth": 0,
              "ticks": ""
             }
            },
            "type": "scatterpolar"
           }
          ],
          "scatterpolargl": [
           {
            "marker": {
             "colorbar": {
              "outlinewidth": 0,
              "ticks": ""
             }
            },
            "type": "scatterpolargl"
           }
          ],
          "scatterternary": [
           {
            "marker": {
             "colorbar": {
              "outlinewidth": 0,
              "ticks": ""
             }
            },
            "type": "scatterternary"
           }
          ],
          "surface": [
           {
            "colorbar": {
             "outlinewidth": 0,
             "ticks": ""
            },
            "colorscale": [
             [
              0,
              "#0d0887"
             ],
             [
              0.1111111111111111,
              "#46039f"
             ],
             [
              0.2222222222222222,
              "#7201a8"
             ],
             [
              0.3333333333333333,
              "#9c179e"
             ],
             [
              0.4444444444444444,
              "#bd3786"
             ],
             [
              0.5555555555555556,
              "#d8576b"
             ],
             [
              0.6666666666666666,
              "#ed7953"
             ],
             [
              0.7777777777777778,
              "#fb9f3a"
             ],
             [
              0.8888888888888888,
              "#fdca26"
             ],
             [
              1,
              "#f0f921"
             ]
            ],
            "type": "surface"
           }
          ],
          "table": [
           {
            "cells": {
             "fill": {
              "color": "#EBF0F8"
             },
             "line": {
              "color": "white"
             }
            },
            "header": {
             "fill": {
              "color": "#C8D4E3"
             },
             "line": {
              "color": "white"
             }
            },
            "type": "table"
           }
          ]
         },
         "layout": {
          "annotationdefaults": {
           "arrowcolor": "#2a3f5f",
           "arrowhead": 0,
           "arrowwidth": 1
          },
          "coloraxis": {
           "colorbar": {
            "outlinewidth": 0,
            "ticks": ""
           }
          },
          "colorscale": {
           "diverging": [
            [
             0,
             "#8e0152"
            ],
            [
             0.1,
             "#c51b7d"
            ],
            [
             0.2,
             "#de77ae"
            ],
            [
             0.3,
             "#f1b6da"
            ],
            [
             0.4,
             "#fde0ef"
            ],
            [
             0.5,
             "#f7f7f7"
            ],
            [
             0.6,
             "#e6f5d0"
            ],
            [
             0.7,
             "#b8e186"
            ],
            [
             0.8,
             "#7fbc41"
            ],
            [
             0.9,
             "#4d9221"
            ],
            [
             1,
             "#276419"
            ]
           ],
           "sequential": [
            [
             0,
             "#0d0887"
            ],
            [
             0.1111111111111111,
             "#46039f"
            ],
            [
             0.2222222222222222,
             "#7201a8"
            ],
            [
             0.3333333333333333,
             "#9c179e"
            ],
            [
             0.4444444444444444,
             "#bd3786"
            ],
            [
             0.5555555555555556,
             "#d8576b"
            ],
            [
             0.6666666666666666,
             "#ed7953"
            ],
            [
             0.7777777777777778,
             "#fb9f3a"
            ],
            [
             0.8888888888888888,
             "#fdca26"
            ],
            [
             1,
             "#f0f921"
            ]
           ],
           "sequentialminus": [
            [
             0,
             "#0d0887"
            ],
            [
             0.1111111111111111,
             "#46039f"
            ],
            [
             0.2222222222222222,
             "#7201a8"
            ],
            [
             0.3333333333333333,
             "#9c179e"
            ],
            [
             0.4444444444444444,
             "#bd3786"
            ],
            [
             0.5555555555555556,
             "#d8576b"
            ],
            [
             0.6666666666666666,
             "#ed7953"
            ],
            [
             0.7777777777777778,
             "#fb9f3a"
            ],
            [
             0.8888888888888888,
             "#fdca26"
            ],
            [
             1,
             "#f0f921"
            ]
           ]
          },
          "colorway": [
           "#636efa",
           "#EF553B",
           "#00cc96",
           "#ab63fa",
           "#FFA15A",
           "#19d3f3",
           "#FF6692",
           "#B6E880",
           "#FF97FF",
           "#FECB52"
          ],
          "font": {
           "color": "#2a3f5f"
          },
          "geo": {
           "bgcolor": "white",
           "lakecolor": "white",
           "landcolor": "#E5ECF6",
           "showlakes": true,
           "showland": true,
           "subunitcolor": "white"
          },
          "hoverlabel": {
           "align": "left"
          },
          "hovermode": "closest",
          "mapbox": {
           "style": "light"
          },
          "paper_bgcolor": "white",
          "plot_bgcolor": "#E5ECF6",
          "polar": {
           "angularaxis": {
            "gridcolor": "white",
            "linecolor": "white",
            "ticks": ""
           },
           "bgcolor": "#E5ECF6",
           "radialaxis": {
            "gridcolor": "white",
            "linecolor": "white",
            "ticks": ""
           }
          },
          "scene": {
           "xaxis": {
            "backgroundcolor": "#E5ECF6",
            "gridcolor": "white",
            "gridwidth": 2,
            "linecolor": "white",
            "showbackground": true,
            "ticks": "",
            "zerolinecolor": "white"
           },
           "yaxis": {
            "backgroundcolor": "#E5ECF6",
            "gridcolor": "white",
            "gridwidth": 2,
            "linecolor": "white",
            "showbackground": true,
            "ticks": "",
            "zerolinecolor": "white"
           },
           "zaxis": {
            "backgroundcolor": "#E5ECF6",
            "gridcolor": "white",
            "gridwidth": 2,
            "linecolor": "white",
            "showbackground": true,
            "ticks": "",
            "zerolinecolor": "white"
           }
          },
          "shapedefaults": {
           "line": {
            "color": "#2a3f5f"
           }
          },
          "ternary": {
           "aaxis": {
            "gridcolor": "white",
            "linecolor": "white",
            "ticks": ""
           },
           "baxis": {
            "gridcolor": "white",
            "linecolor": "white",
            "ticks": ""
           },
           "bgcolor": "#E5ECF6",
           "caxis": {
            "gridcolor": "white",
            "linecolor": "white",
            "ticks": ""
           }
          },
          "title": {
           "x": 0.05
          },
          "xaxis": {
           "automargin": true,
           "gridcolor": "white",
           "linecolor": "white",
           "ticks": "",
           "title": {
            "standoff": 15
           },
           "zerolinecolor": "white",
           "zerolinewidth": 2
          },
          "yaxis": {
           "automargin": true,
           "gridcolor": "white",
           "linecolor": "white",
           "ticks": "",
           "title": {
            "standoff": 15
           },
           "zerolinecolor": "white",
           "zerolinewidth": 2
          }
         }
        },
        "title": {
         "text": "Worldwide Corona Virus Cases - Confirmed, Deaths, Recovered (Bar Chart)"
        },
        "xaxis": {
         "tickfont": {
          "size": 14
         }
        },
        "yaxis": {
         "tickfont": {
          "size": 14
         },
         "title": {
          "font": {
           "size": 16
          },
          "text": "Number of Cases"
         }
        }
       }
      },
      "text/html": [
       "<div>\n",
       "        \n",
       "        \n",
       "            <div id=\"541fc180-e42d-4093-854e-a446213103a5\" class=\"plotly-graph-div\" style=\"height:525px; width:100%;\"></div>\n",
       "            <script type=\"text/javascript\">\n",
       "                require([\"plotly\"], function(Plotly) {\n",
       "                    window.PLOTLYENV=window.PLOTLYENV || {};\n",
       "                    \n",
       "                if (document.getElementById(\"541fc180-e42d-4093-854e-a446213103a5\")) {\n",
       "                    Plotly.newPlot(\n",
       "                        '541fc180-e42d-4093-854e-a446213103a5',\n",
       "                        [{\"marker\": {\"color\": \"blue\"}, \"name\": \"Confirmed\", \"type\": \"bar\", \"x\": [\"1/22/2020\", \"1/23/2020\", \"1/24/2020\", \"1/25/2020\", \"1/26/2020\", \"1/27/2020\", \"1/28/2020\", \"1/29/2020\", \"1/30/2020\", \"1/31/2020\", \"2/1/2020\", \"2/10/2020\", \"2/11/2020\", \"2/12/2020\", \"2/13/2020\", \"2/14/2020\", \"2/15/2020\", \"2/16/2020\", \"2/17/2020\", \"2/18/2020\", \"2/19/2020\", \"2/2/2020\", \"2/20/2020\", \"2/21/2020\", \"2/22/2020\", \"2/23/2020\", \"2/24/2020\", \"2/25/2020\", \"2/26/2020\", \"2/27/2020\", \"2/28/2020\", \"2/29/2020\", \"2/3/2020\", \"2/4/2020\", \"2/5/2020\", \"2/6/2020\", \"2/7/2020\", \"2/8/2020\", \"2/9/2020\", \"3/1/2020\", \"3/10/2020\", \"3/11/2020\", \"3/12/2020\", \"3/13/2020\", \"3/14/2020\", \"3/15/2020\", \"3/16/2020\", \"3/17/2020\", \"3/18/2020\", \"3/19/2020\", \"3/2/2020\", \"3/20/2020\", \"3/21/2020\", \"3/22/2020\", \"3/23/2020\", \"3/24/2020\", \"3/25/2020\", \"3/26/2020\", \"3/27/2020\", \"3/28/2020\", \"3/29/2020\", \"3/3/2020\", \"3/30/2020\", \"3/31/2020\", \"3/4/2020\", \"3/5/2020\", \"3/6/2020\", \"3/7/2020\", \"3/8/2020\", \"3/9/2020\", \"4/1/2020\", \"4/10/2020\", \"4/11/2020\", \"4/12/2020\", \"4/13/2020\", \"4/14/2020\", \"4/15/2020\", \"4/16/2020\", \"4/17/2020\", \"4/18/2020\", \"4/19/2020\", \"4/2/2020\", \"4/20/2020\", \"4/21/2020\", \"4/22/2020\", \"4/23/2020\", \"4/24/2020\", \"4/25/2020\", \"4/26/2020\", \"4/27/2020\", \"4/28/2020\", \"4/29/2020\", \"4/3/2020\", \"4/30/2020\", \"4/4/2020\", \"4/5/2020\", \"4/6/2020\", \"4/7/2020\", \"4/8/2020\", \"4/9/2020\", \"5/1/2020\", \"5/10/2020\", \"5/11/2020\", \"5/12/2020\", \"5/13/2020\", \"5/14/2020\", \"5/15/2020\", \"5/16/2020\", \"5/17/2020\", \"5/18/2020\", \"5/19/2020\", \"5/2/2020\", \"5/20/2020\", \"5/21/2020\", \"5/22/2020\", \"5/23/2020\", \"5/24/2020\", \"5/3/2020\", \"5/4/2020\", \"5/5/2020\", \"5/6/2020\", \"5/7/2020\", \"5/8/2020\", \"5/9/2020\"], \"y\": [555, 653, 941, 1438, 2118, 2927, 5578, 6165, 8235, 9925, 12038, 42763, 44803, 45222, 60370, 66887, 69032, 71226, 73260, 75138, 75641, 16787, 76199, 76843, 78599, 78985, 79570, 80415, 81397, 82756, 84124, 86013, 19881, 23892, 27636, 30818, 34392, 37121, 40151, 88371, 118582, 125865, 128343, 145193, 156099, 167447, 181546, 197168, 214915, 242713, 90309, 272167, 304549, 337122, 378283, 417962, 467594, 529591, 593291, 660693, 720140, 92844, 782389, 857487, 95124, 97886, 101800, 105836, 109835, 113582, 932605, 1691719, 1771514, 1846680, 1917320, 1976192, 2056055, 2152647, 2240191, 2317759, 2401379, 1013303, 2472259, 2549123, 2623960, 2708885, 2810715, 2896746, 2971475, 3041764, 3116398, 3193886, 1095917, 3256846, 1197408, 1272115, 1345101, 1426096, 1511104, 1595350, 3343777, 4101699, 4177504, 4261955, 4347018, 4442163, 4542347, 4634068, 4713620, 4801943, 4897492, 3427343, 4996472, 5102424, 5210817, 5310362, 5407613, 3506729, 3583055, 3662691, 3755341, 3845718, 3938064, 4024009]}, {\"marker\": {\"color\": \"Red\"}, \"name\": \"Deaths\", \"type\": \"bar\", \"x\": [\"1/22/2020\", \"1/23/2020\", \"1/24/2020\", \"1/25/2020\", \"1/26/2020\", \"1/27/2020\", \"1/28/2020\", \"1/29/2020\", \"1/30/2020\", \"1/31/2020\", \"2/1/2020\", \"2/10/2020\", \"2/11/2020\", \"2/12/2020\", \"2/13/2020\", \"2/14/2020\", \"2/15/2020\", \"2/16/2020\", \"2/17/2020\", \"2/18/2020\", \"2/19/2020\", \"2/2/2020\", \"2/20/2020\", \"2/21/2020\", \"2/22/2020\", \"2/23/2020\", \"2/24/2020\", \"2/25/2020\", \"2/26/2020\", \"2/27/2020\", \"2/28/2020\", \"2/29/2020\", \"2/3/2020\", \"2/4/2020\", \"2/5/2020\", \"2/6/2020\", \"2/7/2020\", \"2/8/2020\", \"2/9/2020\", \"3/1/2020\", \"3/10/2020\", \"3/11/2020\", \"3/12/2020\", \"3/13/2020\", \"3/14/2020\", \"3/15/2020\", \"3/16/2020\", \"3/17/2020\", \"3/18/2020\", \"3/19/2020\", \"3/2/2020\", \"3/20/2020\", \"3/21/2020\", \"3/22/2020\", \"3/23/2020\", \"3/24/2020\", \"3/25/2020\", \"3/26/2020\", \"3/27/2020\", \"3/28/2020\", \"3/29/2020\", \"3/3/2020\", \"3/30/2020\", \"3/31/2020\", \"3/4/2020\", \"3/5/2020\", \"3/6/2020\", \"3/7/2020\", \"3/8/2020\", \"3/9/2020\", \"4/1/2020\", \"4/10/2020\", \"4/11/2020\", \"4/12/2020\", \"4/13/2020\", \"4/14/2020\", \"4/15/2020\", \"4/16/2020\", \"4/17/2020\", \"4/18/2020\", \"4/19/2020\", \"4/2/2020\", \"4/20/2020\", \"4/21/2020\", \"4/22/2020\", \"4/23/2020\", \"4/24/2020\", \"4/25/2020\", \"4/26/2020\", \"4/27/2020\", \"4/28/2020\", \"4/29/2020\", \"4/3/2020\", \"4/30/2020\", \"4/4/2020\", \"4/5/2020\", \"4/6/2020\", \"4/7/2020\", \"4/8/2020\", \"4/9/2020\", \"5/1/2020\", \"5/10/2020\", \"5/11/2020\", \"5/12/2020\", \"5/13/2020\", \"5/14/2020\", \"5/15/2020\", \"5/16/2020\", \"5/17/2020\", \"5/18/2020\", \"5/19/2020\", \"5/2/2020\", \"5/20/2020\", \"5/21/2020\", \"5/22/2020\", \"5/23/2020\", \"5/24/2020\", \"5/3/2020\", \"5/4/2020\", \"5/5/2020\", \"5/6/2020\", \"5/7/2020\", \"5/8/2020\", \"5/9/2020\"], \"y\": [17, 18, 26, 42, 56, 82, 131, 133, 171, 213, 259, 1013, 1113, 1118, 1371, 1523, 1666, 1770, 1868, 2007, 2122, 362, 2247, 2251, 2458, 2469, 2629, 2708, 2770, 2814, 2872, 2941, 426, 492, 564, 634, 719, 806, 906, 2996, 4262, 4615, 4720, 5404, 5819, 6440, 7126, 7905, 8733, 9867, 3085, 11299, 12973, 14623, 16497, 18615, 21181, 23970, 27198, 30652, 33925, 3160, 37582, 42107, 3254, 3348, 3460, 3558, 3803, 3996, 46809, 102525, 108502, 114089, 119482, 125984, 134177, 143801, 153822, 159510, 165044, 52983, 169986, 176583, 183066, 190858, 197151, 202846, 206544, 211167, 217153, 227638, 58787, 233388, 64606, 69374, 74565, 81865, 88338, 95455, 238650, 282709, 286330, 291964, 297197, 302418, 307666, 311781, 315185, 318481, 323285, 243808, 328115, 332924, 338160, 342097, 345059, 247470, 251537, 257239, 263831, 269567, 274898, 279311]}, {\"marker\": {\"color\": \"Green\"}, \"name\": \"Recovered\", \"type\": \"bar\", \"x\": [\"1/22/2020\", \"1/23/2020\", \"1/24/2020\", \"1/25/2020\", \"1/26/2020\", \"1/27/2020\", \"1/28/2020\", \"1/29/2020\", \"1/30/2020\", \"1/31/2020\", \"2/1/2020\", \"2/10/2020\", \"2/11/2020\", \"2/12/2020\", \"2/13/2020\", \"2/14/2020\", \"2/15/2020\", \"2/16/2020\", \"2/17/2020\", \"2/18/2020\", \"2/19/2020\", \"2/2/2020\", \"2/20/2020\", \"2/21/2020\", \"2/22/2020\", \"2/23/2020\", \"2/24/2020\", \"2/25/2020\", \"2/26/2020\", \"2/27/2020\", \"2/28/2020\", \"2/29/2020\", \"2/3/2020\", \"2/4/2020\", \"2/5/2020\", \"2/6/2020\", \"2/7/2020\", \"2/8/2020\", \"2/9/2020\", \"3/1/2020\", \"3/10/2020\", \"3/11/2020\", \"3/12/2020\", \"3/13/2020\", \"3/14/2020\", \"3/15/2020\", \"3/16/2020\", \"3/17/2020\", \"3/18/2020\", \"3/19/2020\", \"3/2/2020\", \"3/20/2020\", \"3/21/2020\", \"3/22/2020\", \"3/23/2020\", \"3/24/2020\", \"3/25/2020\", \"3/26/2020\", \"3/27/2020\", \"3/28/2020\", \"3/29/2020\", \"3/3/2020\", \"3/30/2020\", \"3/31/2020\", \"3/4/2020\", \"3/5/2020\", \"3/6/2020\", \"3/7/2020\", \"3/8/2020\", \"3/9/2020\", \"4/1/2020\", \"4/10/2020\", \"4/11/2020\", \"4/12/2020\", \"4/13/2020\", \"4/14/2020\", \"4/15/2020\", \"4/16/2020\", \"4/17/2020\", \"4/18/2020\", \"4/19/2020\", \"4/2/2020\", \"4/20/2020\", \"4/21/2020\", \"4/22/2020\", \"4/23/2020\", \"4/24/2020\", \"4/25/2020\", \"4/26/2020\", \"4/27/2020\", \"4/28/2020\", \"4/29/2020\", \"4/3/2020\", \"4/30/2020\", \"4/4/2020\", \"4/5/2020\", \"4/6/2020\", \"4/7/2020\", \"4/8/2020\", \"4/9/2020\", \"5/1/2020\", \"5/10/2020\", \"5/11/2020\", \"5/12/2020\", \"5/13/2020\", \"5/14/2020\", \"5/15/2020\", \"5/16/2020\", \"5/17/2020\", \"5/18/2020\", \"5/19/2020\", \"5/2/2020\", \"5/20/2020\", \"5/21/2020\", \"5/22/2020\", \"5/23/2020\", \"5/24/2020\", \"5/3/2020\", \"5/4/2020\", \"5/5/2020\", \"5/6/2020\", \"5/7/2020\", \"5/8/2020\", \"5/9/2020\"], \"y\": [28, 30, 36, 39, 52, 61, 107, 126, 143, 222, 284, 3946, 4683, 5150, 6295, 8058, 9395, 10865, 12583, 14352, 16121, 472, 18177, 18890, 22886, 23394, 25227, 27905, 30384, 33277, 36711, 39782, 623, 852, 1124, 1487, 2011, 2616, 3244, 42716, 64404, 67003, 68324, 70251, 72624, 76034, 78088, 80840, 83313, 84962, 45602, 87403, 91676, 97243, 100958, 107699, 113764, 122144, 130909, 139409, 149076, 48229, 164560, 178028, 51171, 53797, 55866, 58359, 60695, 62512, 193171, 376096, 402110, 421722, 448655, 474261, 511019, 542107, 568343, 592319, 623903, 210263, 645738, 679819, 709694, 738486, 793420, 816685, 865733, 893967, 928658, 972719, 225796, 1014753, 246152, 260012, 276515, 300054, 328661, 353975, 1053327, 1408980, 1456209, 1493414, 1548547, 1587893, 1637067, 1693197, 1733963, 1786875, 1838995, 1093112, 1897466, 1948739, 2056643, 2112185, 2168563, 1125236, 1162724, 1198832, 1245413, 1284741, 1322050, 1375624]}],\n",
       "                        {\"bargap\": 0.15, \"bargroupgap\": 0.1, \"barmode\": \"group\", \"legend\": {\"bgcolor\": \"rgba(255, 255, 255, 0)\", \"bordercolor\": \"rgba(255, 255, 255, 0)\", \"x\": 0, \"y\": 1.0}, \"template\": {\"data\": {\"bar\": [{\"error_x\": {\"color\": \"#2a3f5f\"}, \"error_y\": {\"color\": \"#2a3f5f\"}, \"marker\": {\"line\": {\"color\": \"#E5ECF6\", \"width\": 0.5}}, \"type\": \"bar\"}], \"barpolar\": [{\"marker\": {\"line\": {\"color\": \"#E5ECF6\", \"width\": 0.5}}, \"type\": \"barpolar\"}], \"carpet\": [{\"aaxis\": {\"endlinecolor\": \"#2a3f5f\", \"gridcolor\": \"white\", \"linecolor\": \"white\", \"minorgridcolor\": \"white\", \"startlinecolor\": \"#2a3f5f\"}, \"baxis\": {\"endlinecolor\": \"#2a3f5f\", \"gridcolor\": \"white\", \"linecolor\": \"white\", \"minorgridcolor\": \"white\", \"startlinecolor\": \"#2a3f5f\"}, \"type\": \"carpet\"}], \"choropleth\": [{\"colorbar\": {\"outlinewidth\": 0, \"ticks\": \"\"}, \"type\": \"choropleth\"}], \"contour\": [{\"colorbar\": {\"outlinewidth\": 0, \"ticks\": \"\"}, \"colorscale\": [[0.0, \"#0d0887\"], [0.1111111111111111, \"#46039f\"], [0.2222222222222222, \"#7201a8\"], [0.3333333333333333, \"#9c179e\"], [0.4444444444444444, \"#bd3786\"], [0.5555555555555556, \"#d8576b\"], [0.6666666666666666, \"#ed7953\"], [0.7777777777777778, \"#fb9f3a\"], [0.8888888888888888, \"#fdca26\"], [1.0, \"#f0f921\"]], \"type\": \"contour\"}], \"contourcarpet\": [{\"colorbar\": {\"outlinewidth\": 0, \"ticks\": \"\"}, \"type\": \"contourcarpet\"}], \"heatmap\": [{\"colorbar\": {\"outlinewidth\": 0, \"ticks\": \"\"}, \"colorscale\": [[0.0, \"#0d0887\"], [0.1111111111111111, \"#46039f\"], [0.2222222222222222, \"#7201a8\"], [0.3333333333333333, \"#9c179e\"], [0.4444444444444444, \"#bd3786\"], [0.5555555555555556, \"#d8576b\"], [0.6666666666666666, \"#ed7953\"], [0.7777777777777778, \"#fb9f3a\"], [0.8888888888888888, \"#fdca26\"], [1.0, \"#f0f921\"]], \"type\": \"heatmap\"}], \"heatmapgl\": [{\"colorbar\": {\"outlinewidth\": 0, \"ticks\": \"\"}, \"colorscale\": [[0.0, \"#0d0887\"], [0.1111111111111111, \"#46039f\"], [0.2222222222222222, \"#7201a8\"], [0.3333333333333333, \"#9c179e\"], [0.4444444444444444, \"#bd3786\"], [0.5555555555555556, \"#d8576b\"], [0.6666666666666666, \"#ed7953\"], [0.7777777777777778, \"#fb9f3a\"], [0.8888888888888888, \"#fdca26\"], [1.0, \"#f0f921\"]], \"type\": \"heatmapgl\"}], \"histogram\": [{\"marker\": {\"colorbar\": {\"outlinewidth\": 0, \"ticks\": \"\"}}, \"type\": \"histogram\"}], \"histogram2d\": [{\"colorbar\": {\"outlinewidth\": 0, \"ticks\": \"\"}, \"colorscale\": [[0.0, \"#0d0887\"], [0.1111111111111111, \"#46039f\"], [0.2222222222222222, \"#7201a8\"], [0.3333333333333333, \"#9c179e\"], [0.4444444444444444, \"#bd3786\"], [0.5555555555555556, \"#d8576b\"], [0.6666666666666666, \"#ed7953\"], [0.7777777777777778, \"#fb9f3a\"], [0.8888888888888888, \"#fdca26\"], [1.0, \"#f0f921\"]], \"type\": \"histogram2d\"}], \"histogram2dcontour\": [{\"colorbar\": {\"outlinewidth\": 0, \"ticks\": \"\"}, \"colorscale\": [[0.0, \"#0d0887\"], [0.1111111111111111, \"#46039f\"], [0.2222222222222222, \"#7201a8\"], [0.3333333333333333, \"#9c179e\"], [0.4444444444444444, \"#bd3786\"], [0.5555555555555556, \"#d8576b\"], [0.6666666666666666, \"#ed7953\"], [0.7777777777777778, \"#fb9f3a\"], [0.8888888888888888, \"#fdca26\"], [1.0, \"#f0f921\"]], \"type\": \"histogram2dcontour\"}], \"mesh3d\": [{\"colorbar\": {\"outlinewidth\": 0, \"ticks\": \"\"}, \"type\": \"mesh3d\"}], \"parcoords\": [{\"line\": {\"colorbar\": {\"outlinewidth\": 0, \"ticks\": \"\"}}, \"type\": \"parcoords\"}], \"pie\": [{\"automargin\": true, \"type\": \"pie\"}], \"scatter\": [{\"marker\": {\"colorbar\": {\"outlinewidth\": 0, \"ticks\": \"\"}}, \"type\": \"scatter\"}], \"scatter3d\": [{\"line\": {\"colorbar\": {\"outlinewidth\": 0, \"ticks\": \"\"}}, \"marker\": {\"colorbar\": {\"outlinewidth\": 0, \"ticks\": \"\"}}, \"type\": \"scatter3d\"}], \"scattercarpet\": [{\"marker\": {\"colorbar\": {\"outlinewidth\": 0, \"ticks\": \"\"}}, \"type\": \"scattercarpet\"}], \"scattergeo\": [{\"marker\": {\"colorbar\": {\"outlinewidth\": 0, \"ticks\": \"\"}}, \"type\": \"scattergeo\"}], \"scattergl\": [{\"marker\": {\"colorbar\": {\"outlinewidth\": 0, \"ticks\": \"\"}}, \"type\": \"scattergl\"}], \"scattermapbox\": [{\"marker\": {\"colorbar\": {\"outlinewidth\": 0, \"ticks\": \"\"}}, \"type\": \"scattermapbox\"}], \"scatterpolar\": [{\"marker\": {\"colorbar\": {\"outlinewidth\": 0, \"ticks\": \"\"}}, \"type\": \"scatterpolar\"}], \"scatterpolargl\": [{\"marker\": {\"colorbar\": {\"outlinewidth\": 0, \"ticks\": \"\"}}, \"type\": \"scatterpolargl\"}], \"scatterternary\": [{\"marker\": {\"colorbar\": {\"outlinewidth\": 0, \"ticks\": \"\"}}, \"type\": \"scatterternary\"}], \"surface\": [{\"colorbar\": {\"outlinewidth\": 0, \"ticks\": \"\"}, \"colorscale\": [[0.0, \"#0d0887\"], [0.1111111111111111, \"#46039f\"], [0.2222222222222222, \"#7201a8\"], [0.3333333333333333, \"#9c179e\"], [0.4444444444444444, \"#bd3786\"], [0.5555555555555556, \"#d8576b\"], [0.6666666666666666, \"#ed7953\"], [0.7777777777777778, \"#fb9f3a\"], [0.8888888888888888, \"#fdca26\"], [1.0, \"#f0f921\"]], \"type\": \"surface\"}], \"table\": [{\"cells\": {\"fill\": {\"color\": \"#EBF0F8\"}, \"line\": {\"color\": \"white\"}}, \"header\": {\"fill\": {\"color\": \"#C8D4E3\"}, \"line\": {\"color\": \"white\"}}, \"type\": \"table\"}]}, \"layout\": {\"annotationdefaults\": {\"arrowcolor\": \"#2a3f5f\", \"arrowhead\": 0, \"arrowwidth\": 1}, \"coloraxis\": {\"colorbar\": {\"outlinewidth\": 0, \"ticks\": \"\"}}, \"colorscale\": {\"diverging\": [[0, \"#8e0152\"], [0.1, \"#c51b7d\"], [0.2, \"#de77ae\"], [0.3, \"#f1b6da\"], [0.4, \"#fde0ef\"], [0.5, \"#f7f7f7\"], [0.6, \"#e6f5d0\"], [0.7, \"#b8e186\"], [0.8, \"#7fbc41\"], [0.9, \"#4d9221\"], [1, \"#276419\"]], \"sequential\": [[0.0, \"#0d0887\"], [0.1111111111111111, \"#46039f\"], [0.2222222222222222, \"#7201a8\"], [0.3333333333333333, \"#9c179e\"], [0.4444444444444444, \"#bd3786\"], [0.5555555555555556, \"#d8576b\"], [0.6666666666666666, \"#ed7953\"], [0.7777777777777778, \"#fb9f3a\"], [0.8888888888888888, \"#fdca26\"], [1.0, \"#f0f921\"]], \"sequentialminus\": [[0.0, \"#0d0887\"], [0.1111111111111111, \"#46039f\"], [0.2222222222222222, \"#7201a8\"], [0.3333333333333333, \"#9c179e\"], [0.4444444444444444, \"#bd3786\"], [0.5555555555555556, \"#d8576b\"], [0.6666666666666666, \"#ed7953\"], [0.7777777777777778, \"#fb9f3a\"], [0.8888888888888888, \"#fdca26\"], [1.0, \"#f0f921\"]]}, \"colorway\": [\"#636efa\", \"#EF553B\", \"#00cc96\", \"#ab63fa\", \"#FFA15A\", \"#19d3f3\", \"#FF6692\", \"#B6E880\", \"#FF97FF\", \"#FECB52\"], \"font\": {\"color\": \"#2a3f5f\"}, \"geo\": {\"bgcolor\": \"white\", \"lakecolor\": \"white\", \"landcolor\": \"#E5ECF6\", \"showlakes\": true, \"showland\": true, \"subunitcolor\": \"white\"}, \"hoverlabel\": {\"align\": \"left\"}, \"hovermode\": \"closest\", \"mapbox\": {\"style\": \"light\"}, \"paper_bgcolor\": \"white\", \"plot_bgcolor\": \"#E5ECF6\", \"polar\": {\"angularaxis\": {\"gridcolor\": \"white\", \"linecolor\": \"white\", \"ticks\": \"\"}, \"bgcolor\": \"#E5ECF6\", \"radialaxis\": {\"gridcolor\": \"white\", \"linecolor\": \"white\", \"ticks\": \"\"}}, \"scene\": {\"xaxis\": {\"backgroundcolor\": \"#E5ECF6\", \"gridcolor\": \"white\", \"gridwidth\": 2, \"linecolor\": \"white\", \"showbackground\": true, \"ticks\": \"\", \"zerolinecolor\": \"white\"}, \"yaxis\": {\"backgroundcolor\": \"#E5ECF6\", \"gridcolor\": \"white\", \"gridwidth\": 2, \"linecolor\": \"white\", \"showbackground\": true, \"ticks\": \"\", \"zerolinecolor\": \"white\"}, \"zaxis\": {\"backgroundcolor\": \"#E5ECF6\", \"gridcolor\": \"white\", \"gridwidth\": 2, \"linecolor\": \"white\", \"showbackground\": true, \"ticks\": \"\", \"zerolinecolor\": \"white\"}}, \"shapedefaults\": {\"line\": {\"color\": \"#2a3f5f\"}}, \"ternary\": {\"aaxis\": {\"gridcolor\": \"white\", \"linecolor\": \"white\", \"ticks\": \"\"}, \"baxis\": {\"gridcolor\": \"white\", \"linecolor\": \"white\", \"ticks\": \"\"}, \"bgcolor\": \"#E5ECF6\", \"caxis\": {\"gridcolor\": \"white\", \"linecolor\": \"white\", \"ticks\": \"\"}}, \"title\": {\"x\": 0.05}, \"xaxis\": {\"automargin\": true, \"gridcolor\": \"white\", \"linecolor\": \"white\", \"ticks\": \"\", \"title\": {\"standoff\": 15}, \"zerolinecolor\": \"white\", \"zerolinewidth\": 2}, \"yaxis\": {\"automargin\": true, \"gridcolor\": \"white\", \"linecolor\": \"white\", \"ticks\": \"\", \"title\": {\"standoff\": 15}, \"zerolinecolor\": \"white\", \"zerolinewidth\": 2}}}, \"title\": {\"text\": \"Worldwide Corona Virus Cases - Confirmed, Deaths, Recovered (Bar Chart)\"}, \"xaxis\": {\"tickfont\": {\"size\": 14}}, \"yaxis\": {\"tickfont\": {\"size\": 14}, \"title\": {\"font\": {\"size\": 16}, \"text\": \"Number of Cases\"}}},\n",
       "                        {\"responsive\": true}\n",
       "                    ).then(function(){\n",
       "                            \n",
       "var gd = document.getElementById('541fc180-e42d-4093-854e-a446213103a5');\n",
       "var x = new MutationObserver(function (mutations, observer) {{\n",
       "        var display = window.getComputedStyle(gd).display;\n",
       "        if (!display || display === 'none') {{\n",
       "            console.log([gd, 'removed!']);\n",
       "            Plotly.purge(gd);\n",
       "            observer.disconnect();\n",
       "        }}\n",
       "}});\n",
       "\n",
       "// Listen for the removal of the full notebook cells\n",
       "var notebookContainer = gd.closest('#notebook-container');\n",
       "if (notebookContainer) {{\n",
       "    x.observe(notebookContainer, {childList: true});\n",
       "}}\n",
       "\n",
       "// Listen for the clearing of the current output cell\n",
       "var outputEl = gd.closest('.output');\n",
       "if (outputEl) {{\n",
       "    x.observe(outputEl, {childList: true});\n",
       "}}\n",
       "\n",
       "                        })\n",
       "                };\n",
       "                });\n",
       "            </script>\n",
       "        </div>"
      ]
     },
     "metadata": {},
     "output_type": "display_data"
    }
   ],
   "source": [
    "fig = go.Figure()\n",
    "fig.add_trace(go.Bar(x=confirmed['Date'],\n",
    "                y=confirmed['Confirmed'],\n",
    "                name='Confirmed',\n",
    "                marker_color='blue'\n",
    "                ))\n",
    "fig.add_trace(go.Bar(x=deaths['Date'],\n",
    "                y=deaths['Deaths'],\n",
    "                name='Deaths',\n",
    "                marker_color='Red'\n",
    "                ))\n",
    "fig.add_trace(go.Bar(x=recovered['Date'],\n",
    "                y=recovered['Recovered'],\n",
    "                name='Recovered',\n",
    "                marker_color='Green'\n",
    "                ))\n",
    "\n",
    "fig.update_layout(\n",
    "    title='Worldwide Corona Virus Cases - Confirmed, Deaths, Recovered (Bar Chart)',\n",
    "    xaxis_tickfont_size=14,\n",
    "    yaxis=dict(\n",
    "        title='Number of Cases',\n",
    "        titlefont_size=16,\n",
    "        tickfont_size=14,\n",
    "    ),\n",
    "    legend=dict(\n",
    "        x=0,\n",
    "        y=1.0,\n",
    "        bgcolor='rgba(255, 255, 255, 0)', # gap between bars of adjacent location coordinates.\n",
    "        bordercolor='rgba(255, 255, 255, 0)'# gap between bars of the same location coordinate.\n",
    "    ),\n",
    "    barmode='group',\n",
    "    bargap=0.15, \n",
    "    bargroupgap=0.1 \n",
    ")\n",
    "fig.show()"
   ]
  },
  {
   "cell_type": "markdown",
   "metadata": {},
   "source": [
    "Tranforming data for Time Series"
   ]
  },
  {
   "cell_type": "code",
   "execution_count": 68,
   "metadata": {},
   "outputs": [],
   "source": [
    "confirmed = df.groupby('Date').sum()['Confirmed'].reset_index()\n",
    "deaths = df.groupby('Date').sum()['Deaths'].reset_index()\n",
    "recovered = df.groupby('Date').sum()['Recovered'].reset_index()"
   ]
  },
  {
   "cell_type": "code",
   "execution_count": 60,
   "metadata": {},
   "outputs": [
    {
     "data": {
      "text/html": [
       "<div>\n",
       "<style scoped>\n",
       "    .dataframe tbody tr th:only-of-type {\n",
       "        vertical-align: middle;\n",
       "    }\n",
       "\n",
       "    .dataframe tbody tr th {\n",
       "        vertical-align: top;\n",
       "    }\n",
       "\n",
       "    .dataframe thead th {\n",
       "        text-align: right;\n",
       "    }\n",
       "</style>\n",
       "<table border=\"1\" class=\"dataframe\">\n",
       "  <thead>\n",
       "    <tr style=\"text-align: right;\">\n",
       "      <th></th>\n",
       "      <th>Date</th>\n",
       "      <th>Confirmed</th>\n",
       "    </tr>\n",
       "  </thead>\n",
       "  <tbody>\n",
       "    <tr>\n",
       "      <th>0</th>\n",
       "      <td>1/22/2020</td>\n",
       "      <td>555</td>\n",
       "    </tr>\n",
       "    <tr>\n",
       "      <th>1</th>\n",
       "      <td>1/23/2020</td>\n",
       "      <td>653</td>\n",
       "    </tr>\n",
       "    <tr>\n",
       "      <th>2</th>\n",
       "      <td>1/24/2020</td>\n",
       "      <td>941</td>\n",
       "    </tr>\n",
       "    <tr>\n",
       "      <th>3</th>\n",
       "      <td>1/25/2020</td>\n",
       "      <td>1438</td>\n",
       "    </tr>\n",
       "    <tr>\n",
       "      <th>4</th>\n",
       "      <td>1/26/2020</td>\n",
       "      <td>2118</td>\n",
       "    </tr>\n",
       "    <tr>\n",
       "      <th>...</th>\n",
       "      <td>...</td>\n",
       "      <td>...</td>\n",
       "    </tr>\n",
       "    <tr>\n",
       "      <th>119</th>\n",
       "      <td>5/5/2020</td>\n",
       "      <td>3662691</td>\n",
       "    </tr>\n",
       "    <tr>\n",
       "      <th>120</th>\n",
       "      <td>5/6/2020</td>\n",
       "      <td>3755341</td>\n",
       "    </tr>\n",
       "    <tr>\n",
       "      <th>121</th>\n",
       "      <td>5/7/2020</td>\n",
       "      <td>3845718</td>\n",
       "    </tr>\n",
       "    <tr>\n",
       "      <th>122</th>\n",
       "      <td>5/8/2020</td>\n",
       "      <td>3938064</td>\n",
       "    </tr>\n",
       "    <tr>\n",
       "      <th>123</th>\n",
       "      <td>5/9/2020</td>\n",
       "      <td>4024009</td>\n",
       "    </tr>\n",
       "  </tbody>\n",
       "</table>\n",
       "<p>124 rows × 2 columns</p>\n",
       "</div>"
      ],
      "text/plain": [
       "          Date  Confirmed\n",
       "0    1/22/2020        555\n",
       "1    1/23/2020        653\n",
       "2    1/24/2020        941\n",
       "3    1/25/2020       1438\n",
       "4    1/26/2020       2118\n",
       "..         ...        ...\n",
       "119   5/5/2020    3662691\n",
       "120   5/6/2020    3755341\n",
       "121   5/7/2020    3845718\n",
       "122   5/8/2020    3938064\n",
       "123   5/9/2020    4024009\n",
       "\n",
       "[124 rows x 2 columns]"
      ]
     },
     "execution_count": 60,
     "metadata": {},
     "output_type": "execute_result"
    }
   ],
   "source": [
    "confirmed"
   ]
  },
  {
   "cell_type": "code",
   "execution_count": 36,
   "metadata": {},
   "outputs": [],
   "source": [
    "confirmed.columns = ['ds','y'] # renaming colunms as ds and y\n",
    "#confirmed['ds'] = confirmed['ds'].dt.date\n",
    "confirmed['ds'] = pd.to_datetime(confirmed['ds'])#converting string data time into panda datatime"
   ]
  },
  {
   "cell_type": "code",
   "execution_count": 37,
   "metadata": {},
   "outputs": [
    {
     "data": {
      "text/html": [
       "<div>\n",
       "<style scoped>\n",
       "    .dataframe tbody tr th:only-of-type {\n",
       "        vertical-align: middle;\n",
       "    }\n",
       "\n",
       "    .dataframe tbody tr th {\n",
       "        vertical-align: top;\n",
       "    }\n",
       "\n",
       "    .dataframe thead th {\n",
       "        text-align: right;\n",
       "    }\n",
       "</style>\n",
       "<table border=\"1\" class=\"dataframe\">\n",
       "  <thead>\n",
       "    <tr style=\"text-align: right;\">\n",
       "      <th></th>\n",
       "      <th>ds</th>\n",
       "      <th>y</th>\n",
       "    </tr>\n",
       "  </thead>\n",
       "  <tbody>\n",
       "    <tr>\n",
       "      <th>0</th>\n",
       "      <td>2020-01-22</td>\n",
       "      <td>555</td>\n",
       "    </tr>\n",
       "    <tr>\n",
       "      <th>1</th>\n",
       "      <td>2020-01-23</td>\n",
       "      <td>653</td>\n",
       "    </tr>\n",
       "    <tr>\n",
       "      <th>2</th>\n",
       "      <td>2020-01-24</td>\n",
       "      <td>941</td>\n",
       "    </tr>\n",
       "    <tr>\n",
       "      <th>3</th>\n",
       "      <td>2020-01-25</td>\n",
       "      <td>1438</td>\n",
       "    </tr>\n",
       "    <tr>\n",
       "      <th>4</th>\n",
       "      <td>2020-01-26</td>\n",
       "      <td>2118</td>\n",
       "    </tr>\n",
       "  </tbody>\n",
       "</table>\n",
       "</div>"
      ],
      "text/plain": [
       "          ds     y\n",
       "0 2020-01-22   555\n",
       "1 2020-01-23   653\n",
       "2 2020-01-24   941\n",
       "3 2020-01-25  1438\n",
       "4 2020-01-26  2118"
      ]
     },
     "execution_count": 37,
     "metadata": {},
     "output_type": "execute_result"
    }
   ],
   "source": [
    "confirmed.head()"
   ]
  },
  {
   "cell_type": "markdown",
   "metadata": {},
   "source": [
    "Forecasting Confirmed Cases Worldwide with Prophet (Baseline)"
   ]
  },
  {
   "cell_type": "markdown",
   "metadata": {},
   "source": [
    "We perform a week's ahead forecast with Prophet, with 95% prediction intervals. Here, no tweaking of seasonality-related parameters and additional regressors are performed."
   ]
  },
  {
   "cell_type": "code",
   "execution_count": 38,
   "metadata": {},
   "outputs": [
    {
     "name": "stderr",
     "output_type": "stream",
     "text": [
      "INFO:numexpr.utils:NumExpr defaulting to 4 threads.\n",
      "INFO:fbprophet:Disabling yearly seasonality. Run prophet with yearly_seasonality=True to override this.\n",
      "INFO:fbprophet:Disabling daily seasonality. Run prophet with daily_seasonality=True to override this.\n"
     ]
    },
    {
     "data": {
      "text/html": [
       "<div>\n",
       "<style scoped>\n",
       "    .dataframe tbody tr th:only-of-type {\n",
       "        vertical-align: middle;\n",
       "    }\n",
       "\n",
       "    .dataframe tbody tr th {\n",
       "        vertical-align: top;\n",
       "    }\n",
       "\n",
       "    .dataframe thead th {\n",
       "        text-align: right;\n",
       "    }\n",
       "</style>\n",
       "<table border=\"1\" class=\"dataframe\">\n",
       "  <thead>\n",
       "    <tr style=\"text-align: right;\">\n",
       "      <th></th>\n",
       "      <th>ds</th>\n",
       "    </tr>\n",
       "  </thead>\n",
       "  <tbody>\n",
       "    <tr>\n",
       "      <th>126</th>\n",
       "      <td>2020-05-27</td>\n",
       "    </tr>\n",
       "    <tr>\n",
       "      <th>127</th>\n",
       "      <td>2020-05-28</td>\n",
       "    </tr>\n",
       "    <tr>\n",
       "      <th>128</th>\n",
       "      <td>2020-05-29</td>\n",
       "    </tr>\n",
       "    <tr>\n",
       "      <th>129</th>\n",
       "      <td>2020-05-30</td>\n",
       "    </tr>\n",
       "    <tr>\n",
       "      <th>130</th>\n",
       "      <td>2020-05-31</td>\n",
       "    </tr>\n",
       "  </tbody>\n",
       "</table>\n",
       "</div>"
      ],
      "text/plain": [
       "            ds\n",
       "126 2020-05-27\n",
       "127 2020-05-28\n",
       "128 2020-05-29\n",
       "129 2020-05-30\n",
       "130 2020-05-31"
      ]
     },
     "execution_count": 38,
     "metadata": {},
     "output_type": "execute_result"
    }
   ],
   "source": [
    "m = Prophet(interval_width=0.95)\n",
    "m.fit(confirmed)\n",
    "future = m.make_future_dataframe(periods=7)\n",
    "future.tail()"
   ]
  },
  {
   "cell_type": "code",
   "execution_count": 39,
   "metadata": {},
   "outputs": [
    {
     "data": {
      "text/html": [
       "<div>\n",
       "<style scoped>\n",
       "    .dataframe tbody tr th:only-of-type {\n",
       "        vertical-align: middle;\n",
       "    }\n",
       "\n",
       "    .dataframe tbody tr th {\n",
       "        vertical-align: top;\n",
       "    }\n",
       "\n",
       "    .dataframe thead th {\n",
       "        text-align: right;\n",
       "    }\n",
       "</style>\n",
       "<table border=\"1\" class=\"dataframe\">\n",
       "  <thead>\n",
       "    <tr style=\"text-align: right;\">\n",
       "      <th></th>\n",
       "      <th>ds</th>\n",
       "      <th>yhat</th>\n",
       "      <th>yhat_lower</th>\n",
       "      <th>yhat_upper</th>\n",
       "    </tr>\n",
       "  </thead>\n",
       "  <tbody>\n",
       "    <tr>\n",
       "      <th>126</th>\n",
       "      <td>2020-05-27</td>\n",
       "      <td>5.603047e+06</td>\n",
       "      <td>5.568960e+06</td>\n",
       "      <td>5.633878e+06</td>\n",
       "    </tr>\n",
       "    <tr>\n",
       "      <th>127</th>\n",
       "      <td>2020-05-28</td>\n",
       "      <td>5.692728e+06</td>\n",
       "      <td>5.652955e+06</td>\n",
       "      <td>5.727181e+06</td>\n",
       "    </tr>\n",
       "    <tr>\n",
       "      <th>128</th>\n",
       "      <td>2020-05-29</td>\n",
       "      <td>5.785784e+06</td>\n",
       "      <td>5.739771e+06</td>\n",
       "      <td>5.825327e+06</td>\n",
       "    </tr>\n",
       "    <tr>\n",
       "      <th>129</th>\n",
       "      <td>2020-05-30</td>\n",
       "      <td>5.875511e+06</td>\n",
       "      <td>5.811884e+06</td>\n",
       "      <td>5.923078e+06</td>\n",
       "    </tr>\n",
       "    <tr>\n",
       "      <th>130</th>\n",
       "      <td>2020-05-31</td>\n",
       "      <td>5.960887e+06</td>\n",
       "      <td>5.888797e+06</td>\n",
       "      <td>6.026452e+06</td>\n",
       "    </tr>\n",
       "  </tbody>\n",
       "</table>\n",
       "</div>"
      ],
      "text/plain": [
       "            ds          yhat    yhat_lower    yhat_upper\n",
       "126 2020-05-27  5.603047e+06  5.568960e+06  5.633878e+06\n",
       "127 2020-05-28  5.692728e+06  5.652955e+06  5.727181e+06\n",
       "128 2020-05-29  5.785784e+06  5.739771e+06  5.825327e+06\n",
       "129 2020-05-30  5.875511e+06  5.811884e+06  5.923078e+06\n",
       "130 2020-05-31  5.960887e+06  5.888797e+06  6.026452e+06"
      ]
     },
     "execution_count": 39,
     "metadata": {},
     "output_type": "execute_result"
    }
   ],
   "source": [
    "forecast = m.predict(future)\n",
    "forecast[['ds', 'yhat', 'yhat_lower', 'yhat_upper']].tail()"
   ]
  },
  {
   "cell_type": "code",
   "execution_count": 40,
   "metadata": {},
   "outputs": [
    {
     "data": {
      "image/png": "[encoded data removed]",
      "text/plain": [
       "<Figure size 720x432 with 1 Axes>"
      ]
     },
     "metadata": {},
     "output_type": "display_data"
    }
   ],
   "source": [
    "confirmed_forecast_plot = m.plot(forecast)"
   ]
  },
  {
   "cell_type": "code",
   "execution_count": 41,
   "metadata": {},
   "outputs": [
    {
     "data": {
      "image/png": "[encoded data removed]",
      "text/plain": [
       "<Figure size 648x432 with 2 Axes>"
      ]
     },
     "metadata": {},
     "output_type": "display_data"
    }
   ],
   "source": [
    "forecast_components = m.plot_components(forecast)"
   ]
  },
  {
   "cell_type": "code",
   "execution_count": null,
   "metadata": {},
   "outputs": [],
   "source": [
    "Forecasting recoveres Cases Worldwide with Prophet (Baseline)"
   ]
  },
  {
   "cell_type": "code",
   "execution_count": 61,
   "metadata": {},
   "outputs": [],
   "source": [
    "recovered.columns = ['ds','y'] # renaming colunms as ds and y\n",
    "recovered['ds'] = pd.to_datetime(recovered['ds']) #converting string data time into panda date time"
   ]
  },
  {
   "cell_type": "code",
   "execution_count": 62,
   "metadata": {},
   "outputs": [
    {
     "name": "stderr",
     "output_type": "stream",
     "text": [
      "INFO:fbprophet:Disabling yearly seasonality. Run prophet with yearly_seasonality=True to override this.\n",
      "INFO:fbprophet:Disabling daily seasonality. Run prophet with daily_seasonality=True to override this.\n"
     ]
    },
    {
     "data": {
      "text/html": [
       "<div>\n",
       "<style scoped>\n",
       "    .dataframe tbody tr th:only-of-type {\n",
       "        vertical-align: middle;\n",
       "    }\n",
       "\n",
       "    .dataframe tbody tr th {\n",
       "        vertical-align: top;\n",
       "    }\n",
       "\n",
       "    .dataframe thead th {\n",
       "        text-align: right;\n",
       "    }\n",
       "</style>\n",
       "<table border=\"1\" class=\"dataframe\">\n",
       "  <thead>\n",
       "    <tr style=\"text-align: right;\">\n",
       "      <th></th>\n",
       "      <th>ds</th>\n",
       "    </tr>\n",
       "  </thead>\n",
       "  <tbody>\n",
       "    <tr>\n",
       "      <th>126</th>\n",
       "      <td>2020-05-27</td>\n",
       "    </tr>\n",
       "    <tr>\n",
       "      <th>127</th>\n",
       "      <td>2020-05-28</td>\n",
       "    </tr>\n",
       "    <tr>\n",
       "      <th>128</th>\n",
       "      <td>2020-05-29</td>\n",
       "    </tr>\n",
       "    <tr>\n",
       "      <th>129</th>\n",
       "      <td>2020-05-30</td>\n",
       "    </tr>\n",
       "    <tr>\n",
       "      <th>130</th>\n",
       "      <td>2020-05-31</td>\n",
       "    </tr>\n",
       "  </tbody>\n",
       "</table>\n",
       "</div>"
      ],
      "text/plain": [
       "            ds\n",
       "126 2020-05-27\n",
       "127 2020-05-28\n",
       "128 2020-05-29\n",
       "129 2020-05-30\n",
       "130 2020-05-31"
      ]
     },
     "execution_count": 62,
     "metadata": {},
     "output_type": "execute_result"
    }
   ],
   "source": [
    "m = Prophet(interval_width=0.95)\n",
    "m.fit(recovered)\n",
    "future = m.make_future_dataframe(periods=7)\n",
    "future.tail()"
   ]
  },
  {
   "cell_type": "code",
   "execution_count": 63,
   "metadata": {},
   "outputs": [
    {
     "data": {
      "text/html": [
       "<div>\n",
       "<style scoped>\n",
       "    .dataframe tbody tr th:only-of-type {\n",
       "        vertical-align: middle;\n",
       "    }\n",
       "\n",
       "    .dataframe tbody tr th {\n",
       "        vertical-align: top;\n",
       "    }\n",
       "\n",
       "    .dataframe thead th {\n",
       "        text-align: right;\n",
       "    }\n",
       "</style>\n",
       "<table border=\"1\" class=\"dataframe\">\n",
       "  <thead>\n",
       "    <tr style=\"text-align: right;\">\n",
       "      <th></th>\n",
       "      <th>ds</th>\n",
       "      <th>yhat</th>\n",
       "      <th>yhat_lower</th>\n",
       "      <th>yhat_upper</th>\n",
       "    </tr>\n",
       "  </thead>\n",
       "  <tbody>\n",
       "    <tr>\n",
       "      <th>126</th>\n",
       "      <td>2020-05-27</td>\n",
       "      <td>2.218417e+06</td>\n",
       "      <td>2.183014e+06</td>\n",
       "      <td>2.250978e+06</td>\n",
       "    </tr>\n",
       "    <tr>\n",
       "      <th>127</th>\n",
       "      <td>2020-05-28</td>\n",
       "      <td>2.263702e+06</td>\n",
       "      <td>2.228625e+06</td>\n",
       "      <td>2.296282e+06</td>\n",
       "    </tr>\n",
       "    <tr>\n",
       "      <th>128</th>\n",
       "      <td>2020-05-29</td>\n",
       "      <td>2.312955e+06</td>\n",
       "      <td>2.275785e+06</td>\n",
       "      <td>2.348065e+06</td>\n",
       "    </tr>\n",
       "    <tr>\n",
       "      <th>129</th>\n",
       "      <td>2020-05-30</td>\n",
       "      <td>2.359451e+06</td>\n",
       "      <td>2.320178e+06</td>\n",
       "      <td>2.397999e+06</td>\n",
       "    </tr>\n",
       "    <tr>\n",
       "      <th>130</th>\n",
       "      <td>2020-05-31</td>\n",
       "      <td>2.404434e+06</td>\n",
       "      <td>2.363828e+06</td>\n",
       "      <td>2.444911e+06</td>\n",
       "    </tr>\n",
       "  </tbody>\n",
       "</table>\n",
       "</div>"
      ],
      "text/plain": [
       "            ds          yhat    yhat_lower    yhat_upper\n",
       "126 2020-05-27  2.218417e+06  2.183014e+06  2.250978e+06\n",
       "127 2020-05-28  2.263702e+06  2.228625e+06  2.296282e+06\n",
       "128 2020-05-29  2.312955e+06  2.275785e+06  2.348065e+06\n",
       "129 2020-05-30  2.359451e+06  2.320178e+06  2.397999e+06\n",
       "130 2020-05-31  2.404434e+06  2.363828e+06  2.444911e+06"
      ]
     },
     "execution_count": 63,
     "metadata": {},
     "output_type": "execute_result"
    }
   ],
   "source": [
    "forecast = m.predict(future)\n",
    "forecast[['ds', 'yhat', 'yhat_lower', 'yhat_upper']].tail()"
   ]
  },
  {
   "cell_type": "code",
   "execution_count": 64,
   "metadata": {},
   "outputs": [
    {
     "data": {
      "image/png": "[encoded data removed]",
      "text/plain": [
       "<Figure size 720x432 with 1 Axes>"
      ]
     },
     "metadata": {},
     "output_type": "display_data"
    }
   ],
   "source": [
    "recovered_forecast_plot = m.plot(forecast)"
   ]
  },
  {
   "cell_type": "code",
   "execution_count": 65,
   "metadata": {},
   "outputs": [
    {
     "data": {
      "image/png": "[encoded data removed]",
      "text/plain": [
       "<Figure size 648x432 with 2 Axes>"
      ]
     },
     "metadata": {},
     "output_type": "display_data"
    }
   ],
   "source": [
    "forecast_components = m.plot_components(forecast)"
   ]
  },
  {
   "cell_type": "markdown",
   "metadata": {},
   "source": [
    "Forecasting Death Cases Worldwide with Prophet (Baseline)"
   ]
  },
  {
   "cell_type": "code",
   "execution_count": 70,
   "metadata": {},
   "outputs": [],
   "source": [
    "deaths.columns = ['ds','y'] \n",
    "deaths['ds'] = pd.to_datetime(deaths['ds'])"
   ]
  },
  {
   "cell_type": "code",
   "execution_count": 72,
   "metadata": {},
   "outputs": [
    {
     "name": "stderr",
     "output_type": "stream",
     "text": [
      "INFO:fbprophet:Disabling yearly seasonality. Run prophet with yearly_seasonality=True to override this.\n",
      "INFO:fbprophet:Disabling daily seasonality. Run prophet with daily_seasonality=True to override this.\n"
     ]
    },
    {
     "data": {
      "text/html": [
       "<div>\n",
       "<style scoped>\n",
       "    .dataframe tbody tr th:only-of-type {\n",
       "        vertical-align: middle;\n",
       "    }\n",
       "\n",
       "    .dataframe tbody tr th {\n",
       "        vertical-align: top;\n",
       "    }\n",
       "\n",
       "    .dataframe thead th {\n",
       "        text-align: right;\n",
       "    }\n",
       "</style>\n",
       "<table border=\"1\" class=\"dataframe\">\n",
       "  <thead>\n",
       "    <tr style=\"text-align: right;\">\n",
       "      <th></th>\n",
       "      <th>ds</th>\n",
       "    </tr>\n",
       "  </thead>\n",
       "  <tbody>\n",
       "    <tr>\n",
       "      <th>126</th>\n",
       "      <td>2020-05-27</td>\n",
       "    </tr>\n",
       "    <tr>\n",
       "      <th>127</th>\n",
       "      <td>2020-05-28</td>\n",
       "    </tr>\n",
       "    <tr>\n",
       "      <th>128</th>\n",
       "      <td>2020-05-29</td>\n",
       "    </tr>\n",
       "    <tr>\n",
       "      <th>129</th>\n",
       "      <td>2020-05-30</td>\n",
       "    </tr>\n",
       "    <tr>\n",
       "      <th>130</th>\n",
       "      <td>2020-05-31</td>\n",
       "    </tr>\n",
       "  </tbody>\n",
       "</table>\n",
       "</div>"
      ],
      "text/plain": [
       "            ds\n",
       "126 2020-05-27\n",
       "127 2020-05-28\n",
       "128 2020-05-29\n",
       "129 2020-05-30\n",
       "130 2020-05-31"
      ]
     },
     "execution_count": 72,
     "metadata": {},
     "output_type": "execute_result"
    }
   ],
   "source": [
    "m = Prophet(interval_width=0.95)\n",
    "m.fit(deaths)\n",
    "future = m.make_future_dataframe(periods=7)\n",
    "future.tail()"
   ]
  },
  {
   "cell_type": "code",
   "execution_count": 73,
   "metadata": {},
   "outputs": [
    {
     "data": {
      "text/html": [
       "<div>\n",
       "<style scoped>\n",
       "    .dataframe tbody tr th:only-of-type {\n",
       "        vertical-align: middle;\n",
       "    }\n",
       "\n",
       "    .dataframe tbody tr th {\n",
       "        vertical-align: top;\n",
       "    }\n",
       "\n",
       "    .dataframe thead th {\n",
       "        text-align: right;\n",
       "    }\n",
       "</style>\n",
       "<table border=\"1\" class=\"dataframe\">\n",
       "  <thead>\n",
       "    <tr style=\"text-align: right;\">\n",
       "      <th></th>\n",
       "      <th>ds</th>\n",
       "      <th>yhat</th>\n",
       "      <th>yhat_lower</th>\n",
       "      <th>yhat_upper</th>\n",
       "    </tr>\n",
       "  </thead>\n",
       "  <tbody>\n",
       "    <tr>\n",
       "      <th>126</th>\n",
       "      <td>2020-05-27</td>\n",
       "      <td>362756.169560</td>\n",
       "      <td>360275.443856</td>\n",
       "      <td>365462.558845</td>\n",
       "    </tr>\n",
       "    <tr>\n",
       "      <th>127</th>\n",
       "      <td>2020-05-28</td>\n",
       "      <td>367994.815942</td>\n",
       "      <td>364513.909428</td>\n",
       "      <td>371282.618371</td>\n",
       "    </tr>\n",
       "    <tr>\n",
       "      <th>128</th>\n",
       "      <td>2020-05-29</td>\n",
       "      <td>373110.216260</td>\n",
       "      <td>368850.744634</td>\n",
       "      <td>376851.062123</td>\n",
       "    </tr>\n",
       "    <tr>\n",
       "      <th>129</th>\n",
       "      <td>2020-05-30</td>\n",
       "      <td>377707.714925</td>\n",
       "      <td>372224.360418</td>\n",
       "      <td>382784.154968</td>\n",
       "    </tr>\n",
       "    <tr>\n",
       "      <th>130</th>\n",
       "      <td>2020-05-31</td>\n",
       "      <td>381819.317225</td>\n",
       "      <td>375261.673679</td>\n",
       "      <td>388143.566306</td>\n",
       "    </tr>\n",
       "  </tbody>\n",
       "</table>\n",
       "</div>"
      ],
      "text/plain": [
       "            ds           yhat     yhat_lower     yhat_upper\n",
       "126 2020-05-27  362756.169560  360275.443856  365462.558845\n",
       "127 2020-05-28  367994.815942  364513.909428  371282.618371\n",
       "128 2020-05-29  373110.216260  368850.744634  376851.062123\n",
       "129 2020-05-30  377707.714925  372224.360418  382784.154968\n",
       "130 2020-05-31  381819.317225  375261.673679  388143.566306"
      ]
     },
     "execution_count": 73,
     "metadata": {},
     "output_type": "execute_result"
    }
   ],
   "source": [
    "forecast = m.predict(future)\n",
    "forecast[['ds', 'yhat', 'yhat_lower', 'yhat_upper']].tail()"
   ]
  },
  {
   "cell_type": "code",
   "execution_count": 75,
   "metadata": {},
   "outputs": [
    {
     "data": {
      "image/png": "[encoded data removed]",
      "text/plain": [
       "<Figure size 720x432 with 1 Axes>"
      ]
     },
     "metadata": {},
     "output_type": "display_data"
    }
   ],
   "source": [
    "deaths_forecast_plot=m.plot(forecast)"
   ]
  },
  {
   "cell_type": "code",
   "execution_count": 77,
   "metadata": {},
   "outputs": [
    {
     "data": {
      "image/png": "[encoded data removed]",
      "text/plain": [
       "<Figure size 648x432 with 2 Axes>"
      ]
     },
     "metadata": {},
     "output_type": "display_data"
    }
   ],
   "source": [
    "forecast_components=m.plot_components(forecast)"
   ]
  },
  {
   "cell_type": "markdown",
   "metadata": {},
   "source": [
    "CONCLUSION:\n",
    "From forecast it is clear that we are seeing upward trend in cases of confirmed,death and recovered. In the weekly trends plot cases are highest at the weekends."
   ]
  }
 ],
 "metadata": {
  "kernelspec": {
   "display_name": "Python 3",
   "language": "python",
   "name": "python3"
  },
  "language_info": {
   "codemirror_mode": {
    "name": "ipython",
    "version": 3
   },
   "file_extension": ".py",
   "mimetype": "text/x-python",
   "name": "python",
   "nbconvert_exporter": "python",
   "pygments_lexer": "ipython3",
   "version": "3.7.6"
  }
 },
 "nbformat": 4,
 "nbformat_minor": 4
}
